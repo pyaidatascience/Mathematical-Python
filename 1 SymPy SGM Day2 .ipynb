{
 "cells": [
  {
   "cell_type": "markdown",
   "id": "f8c322d5",
   "metadata": {},
   "source": [
    "Importing and calling methods\n",
    "1. import\n",
    "2. import as alias\n"
   ]
  },
  {
   "cell_type": "markdown",
   "id": "3c8d7dca",
   "metadata": {},
   "source": [
    "import math"
   ]
  },
  {
   "cell_type": "code",
   "execution_count": 1,
   "id": "675fd159",
   "metadata": {},
   "outputs": [
    {
     "name": "stdout",
     "output_type": "stream",
     "text": [
      "6.0\n"
     ]
    }
   ],
   "source": [
    "import math\n",
    "squreroot= math.sqrt(36)\n",
    "print(squreroot)\n"
   ]
  },
  {
   "cell_type": "code",
   "execution_count": null,
   "id": "5e3e0654",
   "metadata": {},
   "outputs": [],
   "source": [
    "a = 36\n",
    "root = a**0.5\n",
    "root"
   ]
  },
  {
   "cell_type": "code",
   "execution_count": null,
   "id": "3ce1425b",
   "metadata": {},
   "outputs": [],
   "source": [
    "from math import sqrt\n",
    "squreroot= sqrt(36)\n",
    "print(squreroot)"
   ]
  },
  {
   "cell_type": "code",
   "execution_count": null,
   "id": "d8b940fb",
   "metadata": {},
   "outputs": [],
   "source": [
    "import operator as op\n",
    "print(op.add(56,98))"
   ]
  },
  {
   "cell_type": "code",
   "execution_count": null,
   "id": "0d83f0c9",
   "metadata": {},
   "outputs": [],
   "source": [
    "a = 45\n",
    "b = 98\n",
    "print(op.add(a,b))"
   ]
  },
  {
   "cell_type": "code",
   "execution_count": 2,
   "id": "38b9b9f6",
   "metadata": {},
   "outputs": [
    {
     "name": "stdout",
     "output_type": "stream",
     "text": [
      "2047\n"
     ]
    }
   ],
   "source": [
    "from operator import mul\n",
    "print(mul(89,23))\n"
   ]
  },
  {
   "cell_type": "code",
   "execution_count": 5,
   "id": "40404d4e",
   "metadata": {},
   "outputs": [
    {
     "name": "stdout",
     "output_type": "stream",
     "text": [
      "143\n"
     ]
    }
   ],
   "source": [
    "a = 45\n",
    "b = 98\n",
    "from operator import add\n",
    "print(add(a,b))"
   ]
  },
  {
   "cell_type": "markdown",
   "id": "c82bb9a5",
   "metadata": {},
   "source": [
    "There are four ways of importing\n",
    "direct module === import <modulename>\n",
    "module with alias name === import <modulename> as <aliasname>\n",
    "importing specific signle function === from <module> import <function>\n",
    "inomimous ===   from <module> import*"
   ]
  },
  {
   "cell_type": "code",
   "execution_count": null,
   "id": "e0c3a442",
   "metadata": {},
   "outputs": [],
   "source": [
    "# pip install sympy"
   ]
  },
  {
   "cell_type": "raw",
   "id": "1e4e89de",
   "metadata": {},
   "source": [
    "Four times of importing and calling methods"
   ]
  },
  {
   "cell_type": "code",
   "execution_count": 6,
   "id": "dff1ae91",
   "metadata": {},
   "outputs": [],
   "source": [
    "import sympy"
   ]
  },
  {
   "cell_type": "code",
   "execution_count": 10,
   "id": "226ae482",
   "metadata": {},
   "outputs": [
    {
     "name": "stdout",
     "output_type": "stream",
     "text": [
      "Enter here number : 4\n"
     ]
    },
    {
     "data": {
      "text/plain": [
       "7"
      ]
     },
     "execution_count": 10,
     "metadata": {},
     "output_type": "execute_result"
    }
   ],
   "source": [
    "num = int(input('Enter here number : '))\n",
    "sympy.prime(num)"
   ]
  },
  {
   "cell_type": "code",
   "execution_count": 11,
   "id": "19552dee",
   "metadata": {},
   "outputs": [
    {
     "data": {
      "text/plain": [
       "541"
      ]
     },
     "execution_count": 11,
     "metadata": {},
     "output_type": "execute_result"
    }
   ],
   "source": [
    "sympy.prime(100)"
   ]
  },
  {
   "cell_type": "code",
   "execution_count": 12,
   "id": "cf4dd38f",
   "metadata": {},
   "outputs": [
    {
     "data": {
      "text/plain": [
       "3"
      ]
     },
     "execution_count": 12,
     "metadata": {},
     "output_type": "execute_result"
    }
   ],
   "source": [
    "sympy.prime(2)"
   ]
  },
  {
   "cell_type": "raw",
   "id": "c1249aa0",
   "metadata": {},
   "source": [
    "At the sequncial 23,  number prime is 83\n",
    "sequcially 23 rd prime number is 83"
   ]
  },
  {
   "cell_type": "code",
   "execution_count": 13,
   "id": "46343f21",
   "metadata": {},
   "outputs": [],
   "source": [
    "import sympy as sp"
   ]
  },
  {
   "cell_type": "code",
   "execution_count": 14,
   "id": "92349b01",
   "metadata": {},
   "outputs": [
    {
     "data": {
      "text/plain": [
       "19"
      ]
     },
     "execution_count": 14,
     "metadata": {},
     "output_type": "execute_result"
    }
   ],
   "source": [
    "sp.prime(8)"
   ]
  },
  {
   "cell_type": "code",
   "execution_count": null,
   "id": "012eab1d",
   "metadata": {},
   "outputs": [],
   "source": [
    "from sympy import prime"
   ]
  },
  {
   "cell_type": "code",
   "execution_count": 15,
   "id": "95d17143",
   "metadata": {},
   "outputs": [
    {
     "ename": "NameError",
     "evalue": "name 'prime' is not defined",
     "output_type": "error",
     "traceback": [
      "\u001b[1;31m---------------------------------------------------------------------------\u001b[0m",
      "\u001b[1;31mNameError\u001b[0m                                 Traceback (most recent call last)",
      "Input \u001b[1;32mIn [15]\u001b[0m, in \u001b[0;36m<cell line: 1>\u001b[1;34m()\u001b[0m\n\u001b[1;32m----> 1\u001b[0m \u001b[43mprime\u001b[49m(\u001b[38;5;241m9\u001b[39m)\n",
      "\u001b[1;31mNameError\u001b[0m: name 'prime' is not defined"
     ]
    }
   ],
   "source": [
    "prime(9)"
   ]
  },
  {
   "cell_type": "code",
   "execution_count": 16,
   "id": "fec603cc",
   "metadata": {},
   "outputs": [
    {
     "data": {
      "text/plain": [
       "23"
      ]
     },
     "execution_count": 16,
     "metadata": {},
     "output_type": "execute_result"
    }
   ],
   "source": [
    "from sympy import prime\n",
    "prime(9)"
   ]
  },
  {
   "cell_type": "code",
   "execution_count": 1,
   "id": "13dc6c77",
   "metadata": {},
   "outputs": [],
   "source": [
    "from sympy import sqrt"
   ]
  },
  {
   "cell_type": "code",
   "execution_count": 2,
   "id": "abafe325",
   "metadata": {},
   "outputs": [
    {
     "data": {
      "text/latex": [
       "$\\displaystyle \\sqrt{3}$"
      ],
      "text/plain": [
       "sqrt(3)"
      ]
     },
     "execution_count": 2,
     "metadata": {},
     "output_type": "execute_result"
    }
   ],
   "source": [
    "sqrt(3)"
   ]
  },
  {
   "cell_type": "code",
   "execution_count": 3,
   "id": "2064e55e",
   "metadata": {},
   "outputs": [],
   "source": [
    "from sympy import* "
   ]
  },
  {
   "cell_type": "code",
   "execution_count": 4,
   "id": "64ce4cfe",
   "metadata": {},
   "outputs": [
    {
     "data": {
      "text/latex": [
       "$\\displaystyle \\sqrt{2}$"
      ],
      "text/plain": [
       "sqrt(2)"
      ]
     },
     "execution_count": 4,
     "metadata": {},
     "output_type": "execute_result"
    }
   ],
   "source": [
    "sqrt(2)"
   ]
  },
  {
   "cell_type": "code",
   "execution_count": 5,
   "id": "4dc79b8b",
   "metadata": {},
   "outputs": [],
   "source": [
    "import math\n",
    "import sympy\n",
    "a = 25"
   ]
  },
  {
   "cell_type": "code",
   "execution_count": 6,
   "id": "eea61b35",
   "metadata": {},
   "outputs": [
    {
     "data": {
      "text/latex": [
       "$\\displaystyle \\sqrt{5}$"
      ],
      "text/plain": [
       "sqrt(5)"
      ]
     },
     "execution_count": 6,
     "metadata": {},
     "output_type": "execute_result"
    }
   ],
   "source": [
    "sympy.sqrt(5)"
   ]
  },
  {
   "cell_type": "code",
   "execution_count": 7,
   "id": "a081010c",
   "metadata": {},
   "outputs": [
    {
     "data": {
      "text/plain": [
       "2.23606797749979"
      ]
     },
     "execution_count": 7,
     "metadata": {},
     "output_type": "execute_result"
    }
   ],
   "source": [
    "math.sqrt(5)"
   ]
  },
  {
   "cell_type": "code",
   "execution_count": 8,
   "id": "2e1f15ea",
   "metadata": {},
   "outputs": [],
   "source": [
    "import sympy as sp\n",
    "import math as m"
   ]
  },
  {
   "cell_type": "code",
   "execution_count": null,
   "id": "73913462",
   "metadata": {},
   "outputs": [],
   "source": []
  },
  {
   "cell_type": "code",
   "execution_count": 9,
   "id": "0ca85e92",
   "metadata": {},
   "outputs": [
    {
     "data": {
      "text/latex": [
       "$\\displaystyle \\pi$"
      ],
      "text/plain": [
       "pi"
      ]
     },
     "execution_count": 9,
     "metadata": {},
     "output_type": "execute_result"
    }
   ],
   "source": [
    "sp.pi"
   ]
  },
  {
   "cell_type": "code",
   "execution_count": 10,
   "id": "1d12ee37",
   "metadata": {},
   "outputs": [
    {
     "data": {
      "text/plain": [
       "3.141592653589793"
      ]
     },
     "execution_count": 10,
     "metadata": {},
     "output_type": "execute_result"
    }
   ],
   "source": [
    "m.pi"
   ]
  },
  {
   "cell_type": "code",
   "execution_count": 11,
   "id": "42335d1f",
   "metadata": {},
   "outputs": [
    {
     "data": {
      "text/latex": [
       "$\\displaystyle 3628800$"
      ],
      "text/plain": [
       "3628800"
      ]
     },
     "execution_count": 11,
     "metadata": {},
     "output_type": "execute_result"
    }
   ],
   "source": [
    "sp.factorial(10)"
   ]
  },
  {
   "cell_type": "code",
   "execution_count": 12,
   "id": "3221c746",
   "metadata": {},
   "outputs": [
    {
     "data": {
      "text/plain": [
       "3628800"
      ]
     },
     "execution_count": 12,
     "metadata": {},
     "output_type": "execute_result"
    }
   ],
   "source": [
    "m.factorial(10)"
   ]
  },
  {
   "cell_type": "code",
   "execution_count": 13,
   "id": "97a9f63b",
   "metadata": {},
   "outputs": [],
   "source": [
    "sp.init_printing()"
   ]
  },
  {
   "cell_type": "code",
   "execution_count": 14,
   "id": "5ce04062",
   "metadata": {},
   "outputs": [
    {
     "name": "stdout",
     "output_type": "stream",
     "text": [
      "IPython console for SymPy 1.10.1 (Python 3.9.12-64-bit) (ground types: python)\n",
      "\n",
      "These commands were executed:\n",
      ">>> from sympy import *\n",
      ">>> x, y, z, t = symbols('x y z t')\n",
      ">>> k, m, n = symbols('k m n', integer=True)\n",
      ">>> f, g, h = symbols('f g h', cls=Function)\n",
      ">>> init_printing()\n",
      "\n",
      "Documentation can be found at https://docs.sympy.org/1.10.1/\n",
      "\n"
     ]
    }
   ],
   "source": [
    "import sympy as sp\n",
    "sp.init_session()"
   ]
  },
  {
   "cell_type": "code",
   "execution_count": 15,
   "id": "ab4ea379",
   "metadata": {},
   "outputs": [
    {
     "data": {
      "image/png": "[encoded data removed]",
      "text/latex": [
       "$\\displaystyle 6$"
      ],
      "text/plain": [
       "6"
      ]
     },
     "execution_count": 15,
     "metadata": {},
     "output_type": "execute_result"
    }
   ],
   "source": [
    "factorial (3)"
   ]
  },
  {
   "cell_type": "code",
   "execution_count": null,
   "id": "5e77627f",
   "metadata": {},
   "outputs": [],
   "source": []
  },
  {
   "cell_type": "code",
   "execution_count": 16,
   "id": "cc867ec1",
   "metadata": {},
   "outputs": [
    {
     "data": {
      "image/png": "[encoded data removed]",
      "text/latex": [
       "$\\displaystyle \\sqrt{7}$"
      ],
      "text/plain": [
       "√7"
      ]
     },
     "execution_count": 16,
     "metadata": {},
     "output_type": "execute_result"
    }
   ],
   "source": [
    "sp.sqrt(7)"
   ]
  },
  {
   "cell_type": "code",
   "execution_count": 17,
   "id": "a27bfcb6",
   "metadata": {},
   "outputs": [
    {
     "data": {
      "image/png": "[encoded data removed]",
      "text/latex": [
       "$\\displaystyle 2.64575131106459$"
      ],
      "text/plain": [
       "2.6457513110645907"
      ]
     },
     "execution_count": 17,
     "metadata": {},
     "output_type": "execute_result"
    }
   ],
   "source": [
    "import math as m\n",
    "m.sqrt(7)"
   ]
  },
  {
   "cell_type": "code",
   "execution_count": 18,
   "id": "1b34c31a",
   "metadata": {},
   "outputs": [
    {
     "data": {
      "image/png": "[encoded data removed]",
      "text/latex": [
       "$\\displaystyle 2 \\sqrt{14}$"
      ],
      "text/plain": [
       "2⋅√14"
      ]
     },
     "execution_count": 18,
     "metadata": {},
     "output_type": "execute_result"
    }
   ],
   "source": [
    "sp.sqrt(7)*sp.sqrt(8)"
   ]
  },
  {
   "cell_type": "code",
   "execution_count": 19,
   "id": "74292e28",
   "metadata": {},
   "outputs": [
    {
     "data": {
      "image/png": "[encoded data removed]",
      "text/latex": [
       "$\\displaystyle 7.48331477354788$"
      ],
      "text/plain": [
       "7.4833147735478835"
      ]
     },
     "execution_count": 19,
     "metadata": {},
     "output_type": "execute_result"
    }
   ],
   "source": [
    "m.sqrt(7)*m.sqrt(8)"
   ]
  },
  {
   "cell_type": "code",
   "execution_count": 20,
   "id": "7df309fe",
   "metadata": {},
   "outputs": [
    {
     "name": "stdout",
     "output_type": "stream",
     "text": [
      "NOt equal\n"
     ]
    }
   ],
   "source": [
    "if (sp.sqrt(7)*sp.sqrt(8)==m.sqrt(7)*m.sqrt(8)):\n",
    "    print('Its Equal')\n",
    "else:\n",
    "    print('NOt equal')"
   ]
  },
  {
   "cell_type": "code",
   "execution_count": 21,
   "id": "6cddd332",
   "metadata": {},
   "outputs": [
    {
     "data": {
      "image/png": "[encoded data removed]",
      "text/latex": [
       "$\\displaystyle \\frac{3}{4}$"
      ],
      "text/plain": [
       "3/4"
      ]
     },
     "execution_count": 21,
     "metadata": {},
     "output_type": "execute_result"
    }
   ],
   "source": [
    "sp.Rational(3,4)"
   ]
  },
  {
   "cell_type": "code",
   "execution_count": 22,
   "id": "3862e4cb",
   "metadata": {},
   "outputs": [
    {
     "data": {
      "image/png": "[encoded data removed]",
      "text/latex": [
       "$\\displaystyle 0.75$"
      ],
      "text/plain": [
       "0.75"
      ]
     },
     "execution_count": 22,
     "metadata": {},
     "output_type": "execute_result"
    }
   ],
   "source": [
    "3/4"
   ]
  },
  {
   "cell_type": "code",
   "execution_count": 23,
   "id": "0faff88a",
   "metadata": {},
   "outputs": [
    {
     "data": {
      "image/png": "[encoded data removed]",
      "text/latex": [
       "$\\displaystyle \\frac{19}{12}$"
      ],
      "text/plain": [
       "19\n",
       "──\n",
       "12"
      ]
     },
     "execution_count": 23,
     "metadata": {},
     "output_type": "execute_result"
    }
   ],
   "source": [
    "sp.Rational(3,4) + sp.Rational(5,6)"
   ]
  },
  {
   "cell_type": "code",
   "execution_count": 24,
   "id": "d5043100",
   "metadata": {},
   "outputs": [
    {
     "data": {
      "image/png": "[encoded data removed]",
      "text/latex": [
       "$\\displaystyle 1.58333333333333$"
      ],
      "text/plain": [
       "1.5833333333333335"
      ]
     },
     "execution_count": 24,
     "metadata": {},
     "output_type": "execute_result"
    }
   ],
   "source": [
    "3/4 +5/6"
   ]
  },
  {
   "cell_type": "code",
   "execution_count": 25,
   "id": "1f19cd25",
   "metadata": {},
   "outputs": [
    {
     "data": {
      "image/png": "[encoded data removed]",
      "text/latex": [
       "$\\displaystyle \\frac{5}{8}$"
      ],
      "text/plain": [
       "5/8"
      ]
     },
     "execution_count": 25,
     "metadata": {},
     "output_type": "execute_result"
    }
   ],
   "source": [
    "sp.Rational(3,4) * sp.Rational(5,6)"
   ]
  },
  {
   "cell_type": "code",
   "execution_count": 26,
   "id": "304991d8",
   "metadata": {},
   "outputs": [
    {
     "data": {
      "image/png": "[encoded data removed]",
      "text/latex": [
       "$\\displaystyle 0.625$"
      ],
      "text/plain": [
       "0.625000000000000"
      ]
     },
     "execution_count": 26,
     "metadata": {},
     "output_type": "execute_result"
    }
   ],
   "source": [
    "sp.N(_)"
   ]
  },
  {
   "cell_type": "code",
   "execution_count": 27,
   "id": "7bb13f34",
   "metadata": {},
   "outputs": [
    {
     "data": {
      "image/png": "[encoded data removed]",
      "text/latex": [
       "$\\displaystyle 0.625$"
      ],
      "text/plain": [
       "0.625"
      ]
     },
     "execution_count": 27,
     "metadata": {},
     "output_type": "execute_result"
    }
   ],
   "source": [
    "5/8"
   ]
  },
  {
   "cell_type": "code",
   "execution_count": 28,
   "id": "1e820bd9",
   "metadata": {},
   "outputs": [
    {
     "data": {
      "image/png": "[encoded data removed]",
      "text/latex": [
       "$\\displaystyle 0.75$"
      ],
      "text/plain": [
       "0.750000000000000"
      ]
     },
     "execution_count": 28,
     "metadata": {},
     "output_type": "execute_result"
    }
   ],
   "source": [
    "sp.N(sp.Rational(3/4))"
   ]
  },
  {
   "cell_type": "code",
   "execution_count": 29,
   "id": "b27d3c7a",
   "metadata": {},
   "outputs": [
    {
     "data": {
      "image/png": "[encoded data removed]",
      "text/latex": [
       "$\\displaystyle 31.60696126$"
      ],
      "text/plain": [
       "31.60696126"
      ]
     },
     "execution_count": 29,
     "metadata": {},
     "output_type": "execute_result"
    }
   ],
   "source": [
    "sp.N(sp.sqrt(999),10)"
   ]
  },
  {
   "cell_type": "code",
   "execution_count": 31,
   "id": "2dbe1078",
   "metadata": {},
   "outputs": [
    {
     "data": {
      "image/png": "[encoded data removed]",
      "text/latex": [
       "$\\displaystyle 31.60696125855821654520421$"
      ],
      "text/plain": [
       "31.60696125855821654520421"
      ]
     },
     "execution_count": 31,
     "metadata": {},
     "output_type": "execute_result"
    }
   ],
   "source": [
    "sp.N(sp.sqrt(999),25)\n"
   ]
  },
  {
   "cell_type": "code",
   "execution_count": 32,
   "id": "5429a028",
   "metadata": {},
   "outputs": [
    {
     "data": {
      "image/png": "[encoded data removed]",
      "text/latex": [
       "$\\displaystyle 25.78759391645525350329843$"
      ],
      "text/plain": [
       "25.78759391645525350329843"
      ]
     },
     "execution_count": 32,
     "metadata": {},
     "output_type": "execute_result"
    }
   ],
   "source": [
    "sp.N(sp.sqrt(665),25)"
   ]
  },
  {
   "cell_type": "code",
   "execution_count": 30,
   "id": "0caf34be",
   "metadata": {},
   "outputs": [
    {
     "data": {
      "image/png": "[encoded data removed]",
      "text/latex": [
       "$\\displaystyle 3.1416$"
      ],
      "text/plain": [
       "3.1416"
      ]
     },
     "execution_count": 30,
     "metadata": {},
     "output_type": "execute_result"
    }
   ],
   "source": [
    "sp.N(sp.pi,5)"
   ]
  },
  {
   "cell_type": "code",
   "execution_count": 33,
   "id": "20258761",
   "metadata": {},
   "outputs": [
    {
     "data": {
      "image/png": "[encoded data removed]",
      "text/latex": [
       "$\\displaystyle 3.141592654$"
      ],
      "text/plain": [
       "3.141592654"
      ]
     },
     "execution_count": 33,
     "metadata": {},
     "output_type": "execute_result"
    }
   ],
   "source": [
    "sp.N(sp.pi,10)"
   ]
  },
  {
   "cell_type": "code",
   "execution_count": 34,
   "id": "553e12a3",
   "metadata": {},
   "outputs": [
    {
     "data": {
      "image/png": "[encoded data removed]",
      "text/latex": [
       "$\\displaystyle \\sqrt{2}$"
      ],
      "text/plain": [
       "√2"
      ]
     },
     "execution_count": 34,
     "metadata": {},
     "output_type": "execute_result"
    }
   ],
   "source": [
    "sp.sqrt(2)"
   ]
  },
  {
   "cell_type": "code",
   "execution_count": 35,
   "id": "adbee555",
   "metadata": {},
   "outputs": [
    {
     "data": {
      "image/png": "[encoded data removed]",
      "text/latex": [
       "$\\displaystyle \\sqrt{2}$"
      ],
      "text/plain": [
       "√2"
      ]
     },
     "execution_count": 35,
     "metadata": {},
     "output_type": "execute_result"
    }
   ],
   "source": [
    "sp.sqrt(2)\n",
    "# It reports symbolic representation"
   ]
  },
  {
   "cell_type": "code",
   "execution_count": 36,
   "id": "a0d75c98",
   "metadata": {},
   "outputs": [
    {
     "data": {
      "image/png": "[encoded data removed]",
      "text/latex": [
       "$\\displaystyle 1.4142135623731$"
      ],
      "text/plain": [
       "1.41421356237310"
      ]
     },
     "execution_count": 36,
     "metadata": {},
     "output_type": "execute_result"
    }
   ],
   "source": [
    "sp.sqrt(2).evalf()\n",
    "# returns the result of calcuation with decimal places"
   ]
  },
  {
   "cell_type": "code",
   "execution_count": 37,
   "id": "5409c17c",
   "metadata": {},
   "outputs": [
    {
     "data": {
      "image/png": "[encoded data removed]",
      "text/latex": [
       "$\\displaystyle \\frac{3 \\sqrt{2}}{4} + \\pi$"
      ],
      "text/plain": [
       "3⋅√2    \n",
       "──── + π\n",
       " 4      "
      ]
     },
     "execution_count": 37,
     "metadata": {},
     "output_type": "execute_result"
    }
   ],
   "source": [
    "sp.pi + sp.sqrt(2) * sp.Rational(3,4)\n"
   ]
  },
  {
   "cell_type": "code",
   "execution_count": 38,
   "id": "82d90cf0",
   "metadata": {},
   "outputs": [
    {
     "data": {
      "image/png": "[encoded data removed]",
      "text/latex": [
       "$\\displaystyle 4.20225282536961$"
      ],
      "text/plain": [
       "4.20225282536961"
      ]
     },
     "execution_count": 38,
     "metadata": {},
     "output_type": "execute_result"
    }
   ],
   "source": [
    "(sp.pi + sp.sqrt(2) * sp.Rational(3,4)).evalf()"
   ]
  },
  {
   "cell_type": "code",
   "execution_count": 39,
   "id": "e987382b",
   "metadata": {},
   "outputs": [
    {
     "data": {
      "image/png": "[encoded data removed]",
      "text/latex": [
       "$\\displaystyle \\pi - \\frac{3 \\sqrt{2}}{4}$"
      ],
      "text/plain": [
       "    3⋅√2\n",
       "π - ────\n",
       "     4  "
      ]
     },
     "execution_count": 39,
     "metadata": {},
     "output_type": "execute_result"
    }
   ],
   "source": [
    "sp.pi - sp.sqrt(2) * sp.Rational(3,4)"
   ]
  },
  {
   "cell_type": "code",
   "execution_count": 40,
   "id": "1a720405",
   "metadata": {},
   "outputs": [],
   "source": [
    "expr = sp.pi + sp.sqrt(2) * sp.Rational(3,4)"
   ]
  },
  {
   "cell_type": "code",
   "execution_count": 41,
   "id": "200d5e81",
   "metadata": {},
   "outputs": [
    {
     "data": {
      "image/png": "[encoded data removed]",
      "text/latex": [
       "$\\displaystyle \\frac{3 \\sqrt{2}}{4} + \\pi$"
      ],
      "text/plain": [
       "3⋅√2    \n",
       "──── + π\n",
       " 4      "
      ]
     },
     "execution_count": 41,
     "metadata": {},
     "output_type": "execute_result"
    }
   ],
   "source": [
    "expr"
   ]
  },
  {
   "cell_type": "code",
   "execution_count": 42,
   "id": "b014e502",
   "metadata": {},
   "outputs": [
    {
     "data": {
      "image/png": "[encoded data removed]",
      "text/latex": [
       "$\\displaystyle 4.20225282536961$"
      ],
      "text/plain": [
       "4.20225282536961"
      ]
     },
     "execution_count": 42,
     "metadata": {},
     "output_type": "execute_result"
    }
   ],
   "source": [
    "sp.N(expr)"
   ]
  },
  {
   "cell_type": "code",
   "execution_count": 43,
   "id": "9fe1f5bd",
   "metadata": {},
   "outputs": [
    {
     "data": {
      "image/png": "[encoded data removed]",
      "text/latex": [
       "$\\displaystyle 4.2023$"
      ],
      "text/plain": [
       "4.2023"
      ]
     },
     "execution_count": 43,
     "metadata": {},
     "output_type": "execute_result"
    }
   ],
   "source": [
    "sp.N(expr, 5)\n",
    "# Returns the five digit float"
   ]
  },
  {
   "cell_type": "code",
   "execution_count": 44,
   "id": "7590e0ce",
   "metadata": {},
   "outputs": [
    {
     "data": {
      "image/png": "[encoded data removed]",
      "text/latex": [
       "$\\displaystyle 4.20225$"
      ],
      "text/plain": [
       "4.20225"
      ]
     },
     "execution_count": 44,
     "metadata": {},
     "output_type": "execute_result"
    }
   ],
   "source": [
    "expr.evalf(6)"
   ]
  },
  {
   "cell_type": "code",
   "execution_count": 45,
   "id": "a18b64ea",
   "metadata": {},
   "outputs": [
    {
     "data": {
      "image/png": "[encoded data removed]",
      "text/latex": [
       "$\\displaystyle \\frac{3 \\sqrt{2}}{4} + \\pi$"
      ],
      "text/plain": [
       "3⋅√2    \n",
       "──── + π\n",
       " 4      "
      ]
     },
     "execution_count": 45,
     "metadata": {},
     "output_type": "execute_result"
    }
   ],
   "source": [
    "expr"
   ]
  },
  {
   "cell_type": "code",
   "execution_count": 46,
   "id": "9b49971a",
   "metadata": {},
   "outputs": [
    {
     "data": {
      "image/png": "[encoded data removed]",
      "text/latex": [
       "$\\displaystyle 4.202252825369614525063909926436776443124423305907816875857454395800865765132789277765825476087848248$"
      ],
      "text/plain": [
       "4.2022528253696145250639099264367764431244233059078168758574543958008657651327\n",
       "89277765825476087848248"
      ]
     },
     "execution_count": 46,
     "metadata": {},
     "output_type": "execute_result"
    }
   ],
   "source": [
    "sp.N(_,100)"
   ]
  },
  {
   "cell_type": "code",
   "execution_count": 47,
   "id": "4dd84869",
   "metadata": {},
   "outputs": [
    {
     "data": {
      "image/png": "[encoded data removed]",
      "text/latex": [
       "$\\displaystyle 3.33333333333333$"
      ],
      "text/plain": [
       "3.3333333333333335"
      ]
     },
     "execution_count": 47,
     "metadata": {},
     "output_type": "execute_result"
    }
   ],
   "source": [
    "10/3"
   ]
  },
  {
   "cell_type": "code",
   "execution_count": 48,
   "id": "9fc36349",
   "metadata": {},
   "outputs": [
    {
     "data": {
      "image/png": "[encoded data removed]",
      "text/latex": [
       "$\\displaystyle 3.333333333333333481363069950020872056484222412109375$"
      ],
      "text/plain": [
       "3.3333333333333334813630699500208720564842224121093750000000000000000000000000\n",
       "00000000000000000000000"
      ]
     },
     "execution_count": 48,
     "metadata": {},
     "output_type": "execute_result"
    }
   ],
   "source": [
    "sp.N(_,100)"
   ]
  },
  {
   "cell_type": "code",
   "execution_count": null,
   "id": "d6906829",
   "metadata": {},
   "outputs": [],
   "source": [
    "# THis is about the computation in Python"
   ]
  },
  {
   "cell_type": "code",
   "execution_count": 49,
   "id": "cd992173",
   "metadata": {},
   "outputs": [
    {
     "name": "stdout",
     "output_type": "stream",
     "text": [
      "This is from the body of else\n"
     ]
    }
   ],
   "source": [
    "a = 1.1+ 2.2\n",
    "if a == 3.3:\n",
    "    print('This is from the body of if')\n",
    "    \n",
    "else:\n",
    "    print('This is from the body of else')"
   ]
  },
  {
   "cell_type": "code",
   "execution_count": 50,
   "id": "bedd48bb",
   "metadata": {},
   "outputs": [],
   "source": [
    "x, n = sp.symbols('x n')"
   ]
  },
  {
   "cell_type": "code",
   "execution_count": 51,
   "id": "5666257b",
   "metadata": {},
   "outputs": [
    {
     "ename": "NameError",
     "evalue": "name 'p' is not defined",
     "output_type": "error",
     "traceback": [
      "\u001b[1;31m---------------------------------------------------------------------------\u001b[0m",
      "\u001b[1;31mNameError\u001b[0m                                 Traceback (most recent call last)",
      "Input \u001b[1;32mIn [51]\u001b[0m, in \u001b[0;36m<cell line: 1>\u001b[1;34m()\u001b[0m\n\u001b[1;32m----> 1\u001b[0m y\u001b[38;5;241m/\u001b[39m\u001b[43mp\u001b[49m\n",
      "\u001b[1;31mNameError\u001b[0m: name 'p' is not defined"
     ]
    }
   ],
   "source": [
    "y/p"
   ]
  },
  {
   "cell_type": "code",
   "execution_count": 52,
   "id": "f4288d78",
   "metadata": {},
   "outputs": [
    {
     "data": {
      "image/png": "[encoded data removed]",
      "text/latex": [
       "$\\displaystyle \\frac{x}{n}$"
      ],
      "text/plain": [
       "x\n",
       "─\n",
       "n"
      ]
     },
     "execution_count": 52,
     "metadata": {},
     "output_type": "execute_result"
    }
   ],
   "source": [
    "x/n"
   ]
  },
  {
   "cell_type": "code",
   "execution_count": null,
   "id": "7363f661",
   "metadata": {},
   "outputs": [],
   "source": [
    "p/q"
   ]
  },
  {
   "cell_type": "code",
   "execution_count": 53,
   "id": "17f5bab7",
   "metadata": {},
   "outputs": [
    {
     "data": {
      "image/png": "[encoded data removed]",
      "text/latex": [
       "$\\displaystyle \\sqrt{n} + \\frac{\\sqrt{n - 2}}{x - 3}$"
      ],
      "text/plain": [
       "       _______\n",
       "     ╲╱ n - 2 \n",
       "√n + ─────────\n",
       "       x - 3  "
      ]
     },
     "execution_count": 53,
     "metadata": {},
     "output_type": "execute_result"
    }
   ],
   "source": [
    "(sp.sqrt(n) + sp.sqrt(n-2)/(x-3))"
   ]
  },
  {
   "cell_type": "code",
   "execution_count": 54,
   "id": "4c3a9cfe",
   "metadata": {},
   "outputs": [],
   "source": [
    "a = sp.Symbol('a')"
   ]
  },
  {
   "cell_type": "code",
   "execution_count": 55,
   "id": "8cb46633",
   "metadata": {},
   "outputs": [
    {
     "data": {
      "image/png": "[encoded data removed]",
      "text/latex": [
       "$\\displaystyle a + 1$"
      ],
      "text/plain": [
       "a + 1"
      ]
     },
     "execution_count": 55,
     "metadata": {},
     "output_type": "execute_result"
    }
   ],
   "source": [
    "a + 1"
   ]
  },
  {
   "cell_type": "code",
   "execution_count": 56,
   "id": "a4c6febc",
   "metadata": {},
   "outputs": [
    {
     "data": {
      "image/png": "[encoded data removed]",
      "text/latex": [
       "$\\displaystyle a + n + x - 9$"
      ],
      "text/plain": [
       "a + n + x - 9"
      ]
     },
     "execution_count": 56,
     "metadata": {},
     "output_type": "execute_result"
    }
   ],
   "source": [
    "a + x + n -9"
   ]
  },
  {
   "cell_type": "code",
   "execution_count": 57,
   "id": "2827fc7c",
   "metadata": {},
   "outputs": [],
   "source": [
    "from sympy.abc import p, q , xi"
   ]
  },
  {
   "cell_type": "code",
   "execution_count": 58,
   "id": "0cdff433",
   "metadata": {},
   "outputs": [
    {
     "data": {
      "image/png": "[encoded data removed]",
      "text/latex": [
       "$\\displaystyle a \\sqrt{n - 9} \\left(\\frac{p}{3} + \\frac{\\xi}{3}\\right)$"
      ],
      "text/plain": [
       "    _______ ⎛p   ξ⎞\n",
       "a⋅╲╱ n - 9 ⋅⎜─ + ─⎟\n",
       "            ⎝3   3⎠"
      ]
     },
     "execution_count": 58,
     "metadata": {},
     "output_type": "execute_result"
    }
   ],
   "source": [
    "(xi + p )/3*a*sp.sqrt(n-9)"
   ]
  },
  {
   "cell_type": "code",
   "execution_count": 59,
   "id": "963a0f33",
   "metadata": {},
   "outputs": [],
   "source": [
    "import sympy as sp\n",
    "from sympy.abc import a,b,h,p,n,q,x,y,z"
   ]
  },
  {
   "cell_type": "code",
   "execution_count": 61,
   "id": "60b942ce",
   "metadata": {},
   "outputs": [],
   "source": [
    "area = sp.Rational (1, 2)* b * h"
   ]
  },
  {
   "cell_type": "code",
   "execution_count": 62,
   "id": "d3cc1721",
   "metadata": {},
   "outputs": [
    {
     "name": "stdout",
     "output_type": "stream",
     "text": [
      "b*h/2\n"
     ]
    }
   ],
   "source": [
    "print(area)"
   ]
  },
  {
   "cell_type": "code",
   "execution_count": 63,
   "id": "cf41109f",
   "metadata": {},
   "outputs": [
    {
     "data": {
      "image/png": "[encoded data removed]",
      "text/latex": [
       "$\\displaystyle \\frac{3 h}{2}$"
      ],
      "text/plain": [
       "3⋅h\n",
       "───\n",
       " 2 "
      ]
     },
     "execution_count": 63,
     "metadata": {},
     "output_type": "execute_result"
    }
   ],
   "source": [
    "area.subs(b,3)"
   ]
  },
  {
   "cell_type": "raw",
   "id": "73d9a2da",
   "metadata": {},
   "source": [
    "area.sub("
   ]
  },
  {
   "cell_type": "code",
   "execution_count": 64,
   "id": "c84e8eb5",
   "metadata": {},
   "outputs": [
    {
     "data": {
      "image/png": "[encoded data removed]",
      "text/latex": [
       "$\\displaystyle 32453178576$"
      ],
      "text/plain": [
       "32453178576"
      ]
     },
     "execution_count": 64,
     "metadata": {},
     "output_type": "execute_result"
    }
   ],
   "source": [
    "area.subs([(b,1456),(h,44578542)])"
   ]
  },
  {
   "cell_type": "code",
   "execution_count": 65,
   "id": "3cd47882",
   "metadata": {},
   "outputs": [
    {
     "data": {
      "image/png": "[encoded data removed]",
      "text/latex": [
       "$\\displaystyle \\frac{h^{2}}{8}$"
      ],
      "text/plain": [
       " 2\n",
       "h \n",
       "──\n",
       "8 "
      ]
     },
     "execution_count": 65,
     "metadata": {},
     "output_type": "execute_result"
    }
   ],
   "source": [
    "area.subs(b,sp.Rational(1,4)*h)"
   ]
  },
  {
   "cell_type": "code",
   "execution_count": 66,
   "id": "b835bfa6",
   "metadata": {},
   "outputs": [
    {
     "data": {
      "image/png": "[encoded data removed]",
      "text/latex": [
       "$\\displaystyle \\frac{h^{2}}{8}$"
      ],
      "text/plain": [
       " 2\n",
       "h \n",
       "──\n",
       "8 "
      ]
     },
     "execution_count": 66,
     "metadata": {},
     "output_type": "execute_result"
    }
   ],
   "source": [
    "sp.Rational(1/2)*h/4 *h"
   ]
  },
  {
   "cell_type": "markdown",
   "id": "f958af05",
   "metadata": {},
   "source": [
    "# Factoring"
   ]
  },
  {
   "cell_type": "code",
   "execution_count": 67,
   "id": "2f386aa3",
   "metadata": {},
   "outputs": [
    {
     "data": {
      "image/png": "[encoded data removed]",
      "text/latex": [
       "$\\displaystyle 9$"
      ],
      "text/plain": [
       "9"
      ]
     },
     "execution_count": 67,
     "metadata": {},
     "output_type": "execute_result"
    }
   ],
   "source": [
    "sp.gcd(18, 81)"
   ]
  },
  {
   "cell_type": "code",
   "execution_count": 68,
   "id": "929eb194",
   "metadata": {},
   "outputs": [
    {
     "data": {
      "image/png": "[encoded data removed]",
      "text/latex": [
       "$\\displaystyle 9$"
      ],
      "text/plain": [
       "9"
      ]
     },
     "execution_count": 68,
     "metadata": {},
     "output_type": "execute_result"
    }
   ],
   "source": [
    "sp.gcd(18*x,81)"
   ]
  },
  {
   "cell_type": "code",
   "execution_count": 69,
   "id": "627c07f8",
   "metadata": {},
   "outputs": [
    {
     "data": {
      "image/png": "[encoded data removed]",
      "text/latex": [
       "$\\displaystyle 9 x^{2}$"
      ],
      "text/plain": [
       "   2\n",
       "9⋅x "
      ]
     },
     "execution_count": 69,
     "metadata": {},
     "output_type": "execute_result"
    }
   ],
   "source": [
    "sp.gcd(18 * x **4, 81* x**2)"
   ]
  },
  {
   "cell_type": "code",
   "execution_count": 70,
   "id": "27ead53e",
   "metadata": {},
   "outputs": [
    {
     "data": {
      "image/png": "[encoded data removed]",
      "text/latex": [
       "$\\displaystyle 18 x + 81$"
      ],
      "text/plain": [
       "18⋅x + 81"
      ]
     },
     "execution_count": 70,
     "metadata": {},
     "output_type": "execute_result"
    }
   ],
   "source": [
    "18*x + 81"
   ]
  },
  {
   "cell_type": "code",
   "execution_count": 71,
   "id": "c2877820",
   "metadata": {},
   "outputs": [
    {
     "data": {
      "image/png": "[encoded data removed]",
      "text/latex": [
       "$\\displaystyle 9 \\cdot \\left(2 x + 9\\right)$"
      ],
      "text/plain": [
       "9⋅(2⋅x + 9)"
      ]
     },
     "execution_count": 71,
     "metadata": {},
     "output_type": "execute_result"
    }
   ],
   "source": [
    "sp.factor(18*x +81)"
   ]
  },
  {
   "cell_type": "code",
   "execution_count": 72,
   "id": "aff22a2b",
   "metadata": {},
   "outputs": [
    {
     "data": {
      "image/png": "[encoded data removed]",
      "text/latex": [
       "$\\displaystyle 18 x^{4}$"
      ],
      "text/plain": [
       "    4\n",
       "18⋅x "
      ]
     },
     "execution_count": 72,
     "metadata": {},
     "output_type": "execute_result"
    }
   ],
   "source": [
    "sp.factor(18 * x **4, 81* x**2)"
   ]
  },
  {
   "cell_type": "code",
   "execution_count": 73,
   "id": "80fee0b2",
   "metadata": {},
   "outputs": [
    {
     "data": {
      "image/png": "[encoded data removed]",
      "text/latex": [
       "$\\displaystyle \\left( 18 x^{4}, \\  81 x^{2}\\right)$"
      ],
      "text/plain": [
       "⎛    4      2⎞\n",
       "⎝18⋅x , 81⋅x ⎠"
      ]
     },
     "execution_count": 73,
     "metadata": {},
     "output_type": "execute_result"
    }
   ],
   "source": [
    "expr = 18 * x **4, 81* x**2\n",
    "sp.factor(expr)"
   ]
  },
  {
   "cell_type": "code",
   "execution_count": 74,
   "id": "af99696a",
   "metadata": {},
   "outputs": [
    {
     "data": {
      "image/png": "[encoded data removed]",
      "text/latex": [
       "$\\displaystyle 2 x^{2} + 51 x - 270$"
      ],
      "text/plain": [
       "   2             \n",
       "2⋅x  + 51⋅x - 270"
      ]
     },
     "execution_count": 74,
     "metadata": {},
     "output_type": "execute_result"
    }
   ],
   "source": [
    "sp.expand((2*x - 9)*(x+30))"
   ]
  },
  {
   "cell_type": "code",
   "execution_count": 75,
   "id": "0a553565",
   "metadata": {},
   "outputs": [
    {
     "data": {
      "image/png": "[encoded data removed]",
      "text/latex": [
       "$\\displaystyle \\left(x + 30\\right) \\left(2 x - 9\\right)$"
      ],
      "text/plain": [
       "(x + 30)⋅(2⋅x - 9)"
      ]
     },
     "execution_count": 75,
     "metadata": {},
     "output_type": "execute_result"
    }
   ],
   "source": [
    "((2*x - 9)*(x+30).expand())"
   ]
  },
  {
   "cell_type": "code",
   "execution_count": 76,
   "id": "5ad9830a",
   "metadata": {},
   "outputs": [],
   "source": [
    "expr = ((2*x - 9)*(x+30))"
   ]
  },
  {
   "cell_type": "code",
   "execution_count": null,
   "id": "6a571744",
   "metadata": {},
   "outputs": [],
   "source": []
  },
  {
   "cell_type": "code",
   "execution_count": 77,
   "id": "15d6ea4f",
   "metadata": {},
   "outputs": [
    {
     "data": {
      "image/png": "[encoded data removed]",
      "text/latex": [
       "$\\displaystyle 4 x^{3} - 217 x + 42$"
      ],
      "text/plain": [
       "   3             \n",
       "4⋅x  - 217⋅x + 42"
      ]
     },
     "execution_count": 77,
     "metadata": {},
     "output_type": "execute_result"
    }
   ],
   "source": [
    "x**3+3*x**3 -18 *12*x + 42-x"
   ]
  },
  {
   "cell_type": "code",
   "execution_count": 78,
   "id": "6244018e",
   "metadata": {},
   "outputs": [],
   "source": [
    "expr = (x * h**2 - h**2/3*x-98*x**3+h/x**3)**(h-x-1)"
   ]
  },
  {
   "cell_type": "code",
   "execution_count": 79,
   "id": "276fbf9d",
   "metadata": {},
   "outputs": [
    {
     "data": {
      "image/png": "[encoded data removed]",
      "text/latex": [
       "$\\displaystyle \\left(\\frac{2 h^{2} x}{3} + \\frac{h}{x^{3}} - 98 x^{3}\\right)^{h - x - 1}$"
      ],
      "text/plain": [
       "                     h - x - 1\n",
       "⎛   2               ⎞         \n",
       "⎜2⋅h ⋅x   h        3⎟         \n",
       "⎜────── + ── - 98⋅x ⎟         \n",
       "⎜  3       3        ⎟         \n",
       "⎝         x         ⎠         "
      ]
     },
     "execution_count": 79,
     "metadata": {},
     "output_type": "execute_result"
    }
   ],
   "source": [
    "expr"
   ]
  },
  {
   "cell_type": "code",
   "execution_count": 80,
   "id": "a4239e76",
   "metadata": {},
   "outputs": [
    {
     "data": {
      "image/png": "[encoded data removed]",
      "text/latex": [
       "$\\displaystyle \\left(\\frac{3 h + 2 x^{4} \\left(h^{2} - 147 x^{2}\\right)}{3 x^{3}}\\right)^{h - x - 1}$"
      ],
      "text/plain": [
       "                          h - x - 1\n",
       "⎛         4 ⎛ 2        2⎞⎞         \n",
       "⎜3⋅h + 2⋅x ⋅⎝h  - 147⋅x ⎠⎟         \n",
       "⎜────────────────────────⎟         \n",
       "⎜             3          ⎟         \n",
       "⎝          3⋅x           ⎠         "
      ]
     },
     "execution_count": 80,
     "metadata": {},
     "output_type": "execute_result"
    }
   ],
   "source": [
    "sp.simplify(expr)"
   ]
  },
  {
   "cell_type": "code",
   "execution_count": 81,
   "id": "42d93f5c",
   "metadata": {},
   "outputs": [
    {
     "data": {
      "image/png": "[encoded data removed]",
      "text/latex": [
       "$\\displaystyle \\left(\\frac{3 h + 2 x^{4} \\left(h^{2} - 147 x^{2}\\right)}{3 x^{3}}\\right)^{h - x - 1}$"
      ],
      "text/plain": [
       "                          h - x - 1\n",
       "⎛         4 ⎛ 2        2⎞⎞         \n",
       "⎜3⋅h + 2⋅x ⋅⎝h  - 147⋅x ⎠⎟         \n",
       "⎜────────────────────────⎟         \n",
       "⎜             3          ⎟         \n",
       "⎝          3⋅x           ⎠         "
      ]
     },
     "execution_count": 81,
     "metadata": {},
     "output_type": "execute_result"
    }
   ],
   "source": [
    "expr.simplify()"
   ]
  },
  {
   "cell_type": "code",
   "execution_count": null,
   "id": "09b0dfc3",
   "metadata": {},
   "outputs": [],
   "source": []
  },
  {
   "cell_type": "code",
   "execution_count": null,
   "id": "e53ca59b",
   "metadata": {},
   "outputs": [],
   "source": [
    "# How to solve equations with sympy"
   ]
  },
  {
   "cell_type": "code",
   "execution_count": 82,
   "id": "a1f48206",
   "metadata": {},
   "outputs": [],
   "source": [
    "import sympy as sp\n",
    "from sympy.abc import a,b,c,p,q,h,n,x,y,z"
   ]
  },
  {
   "cell_type": "code",
   "execution_count": null,
   "id": "3b79d8f5",
   "metadata": {},
   "outputs": [],
   "source": [
    "# x + 2 = 3"
   ]
  },
  {
   "cell_type": "code",
   "execution_count": 83,
   "id": "38f5364a",
   "metadata": {},
   "outputs": [
    {
     "data": {
      "image/png": "[encoded data removed]",
      "text/latex": [
       "$\\displaystyle x + 9 = 8$"
      ],
      "text/plain": [
       "x + 9 = 8"
      ]
     },
     "execution_count": 83,
     "metadata": {},
     "output_type": "execute_result"
    }
   ],
   "source": [
    "sp.Eq(x + 9, 8)"
   ]
  },
  {
   "cell_type": "code",
   "execution_count": 84,
   "id": "bfc01e56",
   "metadata": {},
   "outputs": [],
   "source": [
    "eqn = sp.Eq(x+9,8)"
   ]
  },
  {
   "cell_type": "code",
   "execution_count": 85,
   "id": "e9d42652",
   "metadata": {},
   "outputs": [
    {
     "data": {
      "image/png": "[encoded data removed]",
      "text/latex": [
       "$\\displaystyle \\left[ -1\\right]$"
      ],
      "text/plain": [
       "[-1]"
      ]
     },
     "execution_count": 85,
     "metadata": {},
     "output_type": "execute_result"
    }
   ],
   "source": [
    "sp.solve(eqn)"
   ]
  },
  {
   "cell_type": "code",
   "execution_count": 86,
   "id": "86c71111",
   "metadata": {},
   "outputs": [
    {
     "data": {
      "image/png": "[encoded data removed]",
      "text/latex": [
       "$\\displaystyle \\left\\{-1\\right\\}$"
      ],
      "text/plain": [
       "{-1}"
      ]
     },
     "execution_count": 86,
     "metadata": {},
     "output_type": "execute_result"
    }
   ],
   "source": [
    "sp.solveset(eqn)"
   ]
  },
  {
   "cell_type": "code",
   "execution_count": 87,
   "id": "5fee1fbe",
   "metadata": {},
   "outputs": [
    {
     "data": {
      "image/png": "[encoded data removed]",
      "text/latex": [
       "$\\displaystyle \\left\\{-9\\right\\}$"
      ],
      "text/plain": [
       "{-9}"
      ]
     },
     "execution_count": 87,
     "metadata": {},
     "output_type": "execute_result"
    }
   ],
   "source": [
    "sp.solveset(x+9)"
   ]
  },
  {
   "cell_type": "code",
   "execution_count": 88,
   "id": "f8463f45",
   "metadata": {},
   "outputs": [
    {
     "data": {
      "text/plain": [
       "list"
      ]
     },
     "execution_count": 88,
     "metadata": {},
     "output_type": "execute_result"
    }
   ],
   "source": [
    "type(sp.solve(eqn))"
   ]
  },
  {
   "cell_type": "code",
   "execution_count": 89,
   "id": "7f2e3c3f",
   "metadata": {
    "scrolled": true
   },
   "outputs": [
    {
     "data": {
      "text/plain": [
       "sympy.sets.sets.FiniteSet"
      ]
     },
     "execution_count": 89,
     "metadata": {},
     "output_type": "execute_result"
    }
   ],
   "source": [
    "type(sp.solveset(x+9))"
   ]
  },
  {
   "cell_type": "code",
   "execution_count": null,
   "id": "64d6579b",
   "metadata": {},
   "outputs": [],
   "source": [
    "#taking imput from user equations"
   ]
  },
  {
   "cell_type": "code",
   "execution_count": 90,
   "id": "18e6e11e",
   "metadata": {},
   "outputs": [
    {
     "name": "stdout",
     "output_type": "stream",
     "text": [
      "Type your equation 2*x**2 + 9\n"
     ]
    },
    {
     "data": {
      "image/png": "[encoded data removed]",
      "text/latex": [
       "$\\displaystyle \\left\\{- \\frac{3 \\sqrt{2} i}{2}, \\frac{3 \\sqrt{2} i}{2}\\right\\}$"
      ],
      "text/plain": [
       "⎧-3⋅√2⋅ⅈ   3⋅√2⋅ⅈ⎫\n",
       "⎨────────, ──────⎬\n",
       "⎩   2        2   ⎭"
      ]
     },
     "execution_count": 90,
     "metadata": {},
     "output_type": "execute_result"
    }
   ],
   "source": [
    "eqn =sp.sympify(input('Type your equation '))\n",
    "sp.solveset(eqn)"
   ]
  },
  {
   "cell_type": "code",
   "execution_count": 91,
   "id": "c0d7fad9",
   "metadata": {},
   "outputs": [
    {
     "name": "stdout",
     "output_type": "stream",
     "text": [
      "Type your equation 2*x**2 + 9\n"
     ]
    },
    {
     "data": {
      "image/png": "[encoded data removed]",
      "text/latex": [
       "$\\displaystyle \\left\\{- \\frac{3 \\sqrt{2} i}{2}, \\frac{3 \\sqrt{2} i}{2}\\right\\}$"
      ],
      "text/plain": [
       "⎧-3⋅√2⋅ⅈ   3⋅√2⋅ⅈ⎫\n",
       "⎨────────, ──────⎬\n",
       "⎩   2        2   ⎭"
      ]
     },
     "execution_count": 91,
     "metadata": {},
     "output_type": "execute_result"
    }
   ],
   "source": [
    "eqn =sp.sympify(input('Type your equation '))\n",
    "sp.solveset(eqn)"
   ]
  },
  {
   "cell_type": "code",
   "execution_count": null,
   "id": "5902e10a",
   "metadata": {},
   "outputs": [],
   "source": []
  },
  {
   "cell_type": "markdown",
   "id": "cb53c86d",
   "metadata": {},
   "source": [
    "# Matics"
   ]
  },
  {
   "cell_type": "code",
   "execution_count": null,
   "id": "1f5e37e1",
   "metadata": {},
   "outputs": [],
   "source": [
    "A = sp.Matrix([2, 3, 4], [9, 8, 1], [9, 3, 3 ])"
   ]
  },
  {
   "cell_type": "code",
   "execution_count": null,
   "id": "13ccb05e",
   "metadata": {},
   "outputs": [],
   "source": [
    "A.row(0)"
   ]
  },
  {
   "cell_type": "code",
   "execution_count": null,
   "id": "a548d629",
   "metadata": {},
   "outputs": [],
   "source": [
    "import sympy as sp\n",
    "from sympy.abc import a,b,c,p,q,h,n,x,y,z"
   ]
  },
  {
   "cell_type": "code",
   "execution_count": null,
   "id": "15b0cb8f",
   "metadata": {},
   "outputs": [],
   "source": [
    "eqn =sp.sympify(input('Type your equation '))\n",
    "sp.solveset(eqn)"
   ]
  },
  {
   "cell_type": "code",
   "execution_count": null,
   "id": "8b7685fe",
   "metadata": {},
   "outputs": [],
   "source": [
    "eqn =sp.sympify(input('Type your equation '))\n",
    "sp.solveset(eqn)"
   ]
  },
  {
   "cell_type": "code",
   "execution_count": null,
   "id": "cf724117",
   "metadata": {},
   "outputs": [],
   "source": []
  }
 ],
 "metadata": {
  "kernelspec": {
   "display_name": "Python 3 (ipykernel)",
   "language": "python",
   "name": "python3"
  },
  "language_info": {
   "codemirror_mode": {
    "name": "ipython",
    "version": 3
   },
   "file_extension": ".py",
   "mimetype": "text/x-python",
   "name": "python",
   "nbconvert_exporter": "python",
   "pygments_lexer": "ipython3",
   "version": "3.9.12"
  }
 },
 "nbformat": 4,
 "nbformat_minor": 5
}
