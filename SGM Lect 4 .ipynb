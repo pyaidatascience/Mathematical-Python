{
 "cells": [
  {
   "cell_type": "markdown",
   "id": "4920dc27",
   "metadata": {},
   "source": [
    "Before starting with vector calculation in numpy lets understand about list"
   ]
  },
  {
   "cell_type": "code",
   "execution_count": 1,
   "id": "f6d8f151",
   "metadata": {},
   "outputs": [],
   "source": [
    "list = [1,2,3,4,56]"
   ]
  },
  {
   "cell_type": "code",
   "execution_count": 2,
   "id": "642afb12",
   "metadata": {},
   "outputs": [
    {
     "data": {
      "text/plain": [
       "3"
      ]
     },
     "execution_count": 2,
     "metadata": {},
     "output_type": "execute_result"
    }
   ],
   "source": [
    "list[2]"
   ]
  },
  {
   "cell_type": "code",
   "execution_count": 5,
   "id": "2e667bdd",
   "metadata": {},
   "outputs": [],
   "source": [
    "list1 = [(1,2,3,),2,4,5,6,[2,4,7,6,5]]"
   ]
  },
  {
   "cell_type": "code",
   "execution_count": 6,
   "id": "93206a9e",
   "metadata": {},
   "outputs": [
    {
     "data": {
      "text/plain": [
       "[2, 4, 7, 6, 5]"
      ]
     },
     "execution_count": 6,
     "metadata": {},
     "output_type": "execute_result"
    }
   ],
   "source": [
    "list1[-1]"
   ]
  },
  {
   "cell_type": "code",
   "execution_count": null,
   "id": "456cd754",
   "metadata": {},
   "outputs": [],
   "source": []
  },
  {
   "cell_type": "code",
   "execution_count": 7,
   "id": "8ffcfc2f",
   "metadata": {},
   "outputs": [
    {
     "name": "stdout",
     "output_type": "stream",
     "text": [
      "[[1, 2, 3], [3, 4, 6], [4, 6, 7]]\n",
      "<class 'list'>\n"
     ]
    }
   ],
   "source": [
    "vector = [[1,2,3],[3,4,6],[4,6,7]]\n",
    "print(vector)\n",
    "print(type(vector))"
   ]
  },
  {
   "cell_type": "code",
   "execution_count": 8,
   "id": "74ad81a8",
   "metadata": {},
   "outputs": [
    {
     "name": "stdout",
     "output_type": "stream",
     "text": [
      "[[1, 2, 3], [3, 4, 6], [4, 6, 7], [2, 4, 5], [4, 6, 7], [5, 7, 9]]\n"
     ]
    }
   ],
   "source": [
    "vector1 = [[2,4,5],[4,6,7],[5,7,9]]\n",
    "print(vector + vector1)"
   ]
  },
  {
   "cell_type": "code",
   "execution_count": null,
   "id": "23b131af",
   "metadata": {},
   "outputs": [],
   "source": [
    "\"\"\"\n",
    "To try the examples in the browser:\n",
    "1. Type code in the input cell and press   Shift + Enter to execute\n",
    "2. Or copy paste the code, and click on   the \"Run\" button in the toolbar\n",
    "\"\"\""
   ]
  },
  {
   "cell_type": "code",
   "execution_count": 9,
   "id": "9d023de7",
   "metadata": {},
   "outputs": [],
   "source": [
    "# The standard way to import NumPy:\n",
    "import numpy as np\n",
    "#numpy is one of popular module for vector calculations"
   ]
  },
  {
   "cell_type": "code",
   "execution_count": 10,
   "id": "6504350f",
   "metadata": {},
   "outputs": [
    {
     "data": {
      "text/plain": [
       "array([[  0,   1,   2,   3,   4],\n",
       "       [-99,   6, -99,   8, -99],\n",
       "       [-99,  11, -99,  13, -99]], dtype=int64)"
      ]
     },
     "execution_count": 10,
     "metadata": {},
     "output_type": "execute_result"
    }
   ],
   "source": [
    "# Create a 2-D array, set every second element in\n",
    "# some rows and find max per row:\n",
    "\n",
    "x = np.arange(15, dtype=np.int64).reshape(3, 5)\n",
    "x[1:, ::2] = -99\n",
    "x"
   ]
  },
  {
   "cell_type": "code",
   "execution_count": 11,
   "id": "3825a91c",
   "metadata": {},
   "outputs": [
    {
     "data": {
      "text/plain": [
       "array([ 4,  8, 13], dtype=int64)"
      ]
     },
     "execution_count": 11,
     "metadata": {},
     "output_type": "execute_result"
    }
   ],
   "source": [
    "\n",
    "x.max(axis=1)"
   ]
  },
  {
   "cell_type": "code",
   "execution_count": 12,
   "id": "915e9cc8",
   "metadata": {},
   "outputs": [
    {
     "data": {
      "text/plain": [
       "array([-0.41914238,  0.63943171,  0.72960711, ..., -1.45697131,\n",
       "        0.02345741,  1.20998529])"
      ]
     },
     "execution_count": 12,
     "metadata": {},
     "output_type": "execute_result"
    }
   ],
   "source": [
    "# array([ 4,  8, 13])\n",
    "\n",
    "# Generate normally distributed random numbers:\n",
    "rng = np.random.default_rng()\n",
    "samples = rng.normal(size=2500)\n",
    "samples"
   ]
  },
  {
   "cell_type": "code",
   "execution_count": null,
   "id": "cdacd7de",
   "metadata": {},
   "outputs": [],
   "source": [
    "a = np.arange(6)\n",
    "a2 = a[np.newaxis, :]\n",
    "print(a2.shape)\n",
    "print(a)\n",
    "print(a2)"
   ]
  },
  {
   "cell_type": "code",
   "execution_count": 19,
   "id": "0af94889",
   "metadata": {},
   "outputs": [
    {
     "name": "stdout",
     "output_type": "stream",
     "text": [
      "[[10 15]]\n",
      "[[20  9]]\n"
     ]
    }
   ],
   "source": [
    "a = np.array([[10,15]])\n",
    "b = np.array([[20,9]])\n",
    "print(a)\n",
    "print(b)\n"
   ]
  },
  {
   "cell_type": "code",
   "execution_count": 14,
   "id": "94192ed5",
   "metadata": {},
   "outputs": [
    {
     "name": "stdout",
     "output_type": "stream",
     "text": [
      "<class 'numpy.ndarray'>\n"
     ]
    }
   ],
   "source": [
    "print(type(a))"
   ]
  },
  {
   "cell_type": "code",
   "execution_count": 15,
   "id": "f026b6b2",
   "metadata": {},
   "outputs": [
    {
     "name": "stdout",
     "output_type": "stream",
     "text": [
      "<class 'numpy.ndarray'>\n",
      "[[ 1  2  3  4]\n",
      " [ 5  6  7  8]\n",
      " [ 9 10 11 12]]\n"
     ]
    }
   ],
   "source": [
    "a = np.array([[1, 2, 3, 4], [5, 6, 7, 8], [9, 10, 11, 12]])\n",
    "print(type(a))\n",
    "print(a)"
   ]
  },
  {
   "cell_type": "code",
   "execution_count": 16,
   "id": "37630c32",
   "metadata": {},
   "outputs": [
    {
     "name": "stdout",
     "output_type": "stream",
     "text": [
      "[1 2 3 4]\n"
     ]
    }
   ],
   "source": [
    "print(a[0])"
   ]
  },
  {
   "cell_type": "code",
   "execution_count": 17,
   "id": "df78f664",
   "metadata": {},
   "outputs": [
    {
     "name": "stdout",
     "output_type": "stream",
     "text": [
      "<class 'numpy.ndarray'>\n"
     ]
    }
   ],
   "source": [
    "print(type(a))"
   ]
  },
  {
   "cell_type": "code",
   "execution_count": 20,
   "id": "198c1b5a",
   "metadata": {},
   "outputs": [
    {
     "data": {
      "text/plain": [
       "array([[30, 24]])"
      ]
     },
     "execution_count": 20,
     "metadata": {},
     "output_type": "execute_result"
    }
   ],
   "source": [
    "#addition of two vectors\n",
    "a + b"
   ]
  },
  {
   "cell_type": "code",
   "execution_count": 21,
   "id": "65041d4e",
   "metadata": {},
   "outputs": [
    {
     "data": {
      "text/plain": [
       "array([[30],\n",
       "       [24]])"
      ]
     },
     "execution_count": 21,
     "metadata": {},
     "output_type": "execute_result"
    }
   ],
   "source": [
    "a.T + b.T"
   ]
  },
  {
   "cell_type": "code",
   "execution_count": 22,
   "id": "1f3d2451",
   "metadata": {},
   "outputs": [
    {
     "data": {
      "text/plain": [
       "array([[30],\n",
       "       [24]])"
      ]
     },
     "execution_count": 22,
     "metadata": {},
     "output_type": "execute_result"
    }
   ],
   "source": [
    "(a + b).T"
   ]
  },
  {
   "cell_type": "code",
   "execution_count": 23,
   "id": "705f9780",
   "metadata": {},
   "outputs": [
    {
     "data": {
      "text/plain": [
       "array([[-10,   6]])"
      ]
     },
     "execution_count": 23,
     "metadata": {},
     "output_type": "execute_result"
    }
   ],
   "source": [
    "# Substraction of 2 vectors\n",
    "a-b"
   ]
  },
  {
   "cell_type": "code",
   "execution_count": 24,
   "id": "cf28771a",
   "metadata": {},
   "outputs": [
    {
     "data": {
      "text/plain": [
       "array([[-10],\n",
       "       [  6]])"
      ]
     },
     "execution_count": 24,
     "metadata": {},
     "output_type": "execute_result"
    }
   ],
   "source": [
    "(a-b).T"
   ]
  },
  {
   "cell_type": "code",
   "execution_count": 25,
   "id": "e3b39830",
   "metadata": {},
   "outputs": [
    {
     "data": {
      "text/plain": [
       "array([[ True],\n",
       "       [ True]])"
      ]
     },
     "execution_count": 25,
     "metadata": {},
     "output_type": "execute_result"
    }
   ],
   "source": [
    "(a-b).T == a.T - b.T"
   ]
  },
  {
   "cell_type": "code",
   "execution_count": 26,
   "id": "d035d178",
   "metadata": {},
   "outputs": [
    {
     "data": {
      "text/plain": [
       "array([[60],\n",
       "       [30]])"
      ]
     },
     "execution_count": 26,
     "metadata": {},
     "output_type": "execute_result"
    }
   ],
   "source": [
    "# Scaler Multiplication\n",
    "a= 2\n",
    "u = np.array([[30,15]])\n",
    "(a * u).T"
   ]
  },
  {
   "cell_type": "code",
   "execution_count": 27,
   "id": "2138d996",
   "metadata": {},
   "outputs": [
    {
     "name": "stdout",
     "output_type": "stream",
     "text": [
      "370\n"
     ]
    },
    {
     "data": {
      "text/plain": [
       "370"
      ]
     },
     "execution_count": 27,
     "metadata": {},
     "output_type": "execute_result"
    }
   ],
   "source": [
    "# Dot product of 2 Vectors\n",
    "# for 2-D vectors, it is the equivalent to matrix multiplication\n",
    "\n",
    "u = np.array([10,20])\n",
    "v = np.array([25,6])\n",
    "\n",
    "print(10 * 25 + 20 * 6)\n",
    "\n",
    "np.dot(u,v)"
   ]
  },
  {
   "cell_type": "code",
   "execution_count": 28,
   "id": "31aefa7a",
   "metadata": {},
   "outputs": [
    {
     "name": "stdout",
     "output_type": "stream",
     "text": [
      "[[12 10]\n",
      " [ 4  6]\n",
      " [40 31]]\n"
     ]
    }
   ],
   "source": [
    "# Matrix Addition\n",
    "\n",
    "a = np.array([[12,10],[4,6],[40,31]])\n",
    "b = np.array([[2,8],[46,63],[50,10]])\n",
    "\n",
    "print(a)"
   ]
  },
  {
   "cell_type": "code",
   "execution_count": 29,
   "id": "9713dcab",
   "metadata": {},
   "outputs": [
    {
     "name": "stdout",
     "output_type": "stream",
     "text": [
      "[[ 2  8]\n",
      " [46 63]\n",
      " [50 10]]\n"
     ]
    }
   ],
   "source": [
    "print(b)"
   ]
  },
  {
   "cell_type": "code",
   "execution_count": 30,
   "id": "a3f89361",
   "metadata": {},
   "outputs": [
    {
     "name": "stdout",
     "output_type": "stream",
     "text": [
      "[[12 10]\n",
      " [ 4  6]\n",
      " [40 31]] =a\n",
      "[[ 2  8]\n",
      " [46 63]\n",
      " [50 10]] = b\n"
     ]
    }
   ],
   "source": [
    "print(a, end=' =a\\n')\n",
    "print(b, end =' = b\\n')"
   ]
  },
  {
   "cell_type": "code",
   "execution_count": 31,
   "id": "e369cc2a",
   "metadata": {},
   "outputs": [
    {
     "data": {
      "text/plain": [
       "array([[14, 18],\n",
       "       [50, 69],\n",
       "       [90, 41]])"
      ]
     },
     "execution_count": 31,
     "metadata": {},
     "output_type": "execute_result"
    }
   ],
   "source": [
    "a + b"
   ]
  },
  {
   "cell_type": "code",
   "execution_count": 32,
   "id": "f68fcb51",
   "metadata": {},
   "outputs": [
    {
     "data": {
      "text/plain": [
       "array([[ 10,   2],\n",
       "       [-42, -57],\n",
       "       [-10,  21]])"
      ]
     },
     "execution_count": 32,
     "metadata": {},
     "output_type": "execute_result"
    }
   ],
   "source": [
    "# Matrix Sustraction\n",
    "a - b"
   ]
  },
  {
   "cell_type": "code",
   "execution_count": 33,
   "id": "f55ab821",
   "metadata": {},
   "outputs": [
    {
     "data": {
      "text/plain": [
       "array([[ 8, 20],\n",
       "       [12, 28],\n",
       "       [32, 24]])"
      ]
     },
     "execution_count": 33,
     "metadata": {},
     "output_type": "execute_result"
    }
   ],
   "source": [
    "# Matrix scalar multiplication \n",
    "\n",
    "a = 4\n",
    "b = np.array([[2,5],[3,7],[8,6]])\n",
    "\n",
    "a * b"
   ]
  },
  {
   "cell_type": "code",
   "execution_count": 34,
   "id": "b0a97ca1",
   "metadata": {},
   "outputs": [
    {
     "data": {
      "text/plain": [
       "array([170, 390])"
      ]
     },
     "execution_count": 34,
     "metadata": {},
     "output_type": "execute_result"
    }
   ],
   "source": [
    "# Matrix and vactor multiplication\n",
    "\n",
    "a = [[5,10],[15,20]]\n",
    "b =[10,12]\n",
    "\n",
    "np.dot(a,b)"
   ]
  },
  {
   "cell_type": "code",
   "execution_count": 35,
   "id": "f72af4d0",
   "metadata": {},
   "outputs": [
    {
     "data": {
      "text/plain": [
       "array([[105,  80],\n",
       "       [225, 190],\n",
       "       [345, 300]])"
      ]
     },
     "execution_count": 35,
     "metadata": {},
     "output_type": "execute_result"
    }
   ],
   "source": [
    "# Matrix to matrix multiplication\n",
    "a = [[5,10],[15,20],[25,30]]\n",
    "b = [[3,6],[9,5]]\n",
    "\n",
    "np.dot(a,b)"
   ]
  },
  {
   "cell_type": "code",
   "execution_count": 39,
   "id": "cdde277d",
   "metadata": {},
   "outputs": [
    {
     "name": "stdout",
     "output_type": "stream",
     "text": [
      "<class 'list'>\n",
      "[[2, 3], [5, 6], [4, 6], [3, 6], [9, 5]]\n"
     ]
    }
   ],
   "source": [
    "a = [[2,3],[5,6],[4,6]]\n",
    "print(type(a))\n",
    "print(a+b)\n"
   ]
  },
  {
   "cell_type": "code",
   "execution_count": 40,
   "id": "183cbceb",
   "metadata": {},
   "outputs": [
    {
     "name": "stdout",
     "output_type": "stream",
     "text": [
      "[[ 5 10]\n",
      " [15 20]\n",
      " [25 30]]  = a\n",
      "[[ 5 15 25]\n",
      " [10 20 30]]  =aT"
     ]
    }
   ],
   "source": [
    "# transpose a matrix\n",
    "\n",
    "a = np.array([[5,10],[15,20],[25,30]])\n",
    "print(a,end='  = a\\n')\n",
    "print(a.T, end= '  =aT')"
   ]
  },
  {
   "cell_type": "code",
   "execution_count": 41,
   "id": "44816a2b",
   "metadata": {},
   "outputs": [
    {
     "name": "stdout",
     "output_type": "stream",
     "text": [
      "[[1. 0.]\n",
      " [0. 1.]]  =I1\n",
      "[[1. 0. 0.]\n",
      " [0. 1. 0.]\n",
      " [0. 0. 1.]]  =I2\n"
     ]
    }
   ],
   "source": [
    "# create an Identity matrix\n",
    "''' Identity matrix is the matrix\n",
    "having all the diagonal elements are \n",
    "identical \n",
    "'''\n",
    "I1 = np.eye(2)\n",
    "I2 = np.eye(3)\n",
    "print(I1, end ='  =I1\\n' )\n",
    "print(I2, end ='  =I2\\n')"
   ]
  },
  {
   "cell_type": "code",
   "execution_count": 42,
   "id": "da4a390c",
   "metadata": {},
   "outputs": [
    {
     "name": "stdout",
     "output_type": "stream",
     "text": [
      "[[2 1 0]\n",
      " [0 1 0]\n",
      " [1 2 1]]= a\n",
      "[[ 0.5 -0.5  0. ]\n",
      " [ 0.   1.   0. ]\n",
      " [-0.5 -1.5  1. ]]  =  |a|"
     ]
    }
   ],
   "source": [
    "# Inverse a matrix Given a square matrix a , return a matrix ainv satisfying\n",
    "#dot(a, ainv) = dot(ainv, a) = eye(a.shape[0]).\n",
    "a = np.array([\n",
    "    [2,1,0],\n",
    "    [0,1,0],\n",
    "    [1,2,1],\n",
    "])\n",
    "print(a, end= '= a\\n')\n",
    "print(np.linalg.inv(a), end='  =  |a|')"
   ]
  },
  {
   "cell_type": "code",
   "execution_count": null,
   "id": "64c1044e",
   "metadata": {},
   "outputs": [],
   "source": []
  }
 ],
 "metadata": {
  "kernelspec": {
   "display_name": "Python 3 (ipykernel)",
   "language": "python",
   "name": "python3"
  },
  "language_info": {
   "codemirror_mode": {
    "name": "ipython",
    "version": 3
   },
   "file_extension": ".py",
   "mimetype": "text/x-python",
   "name": "python",
   "nbconvert_exporter": "python",
   "pygments_lexer": "ipython3",
   "version": "3.9.12"
  }
 },
 "nbformat": 4,
 "nbformat_minor": 5
}
