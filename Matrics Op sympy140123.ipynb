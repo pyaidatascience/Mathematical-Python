{
 "cells": [
  {
   "cell_type": "raw",
   "id": "4658faff",
   "metadata": {},
   "source": [
    "## Matrices with SymPy\n",
    "Vocab\n",
    "Making Matrices and Vectors\n",
    "Special Matrics\n",
    "Accessing Elemets, Rows,and Columns"
   ]
  },
  {
   "cell_type": "raw",
   "id": "6b6b18a6",
   "metadata": {},
   "source": [
    "Matrix (Plural, Matrices) -> rectangular array nubembers arranged in rows and columns\n",
    "8   7   2   0\n",
    "9   73  23  1\n",
    "-48 2   1   29\n",
    "\n",
    "    'Order' of a Matrix -> rows by columns(i.e. above Matrix order is 4X3)"
   ]
  },
  {
   "cell_type": "raw",
   "id": "451a3302",
   "metadata": {},
   "source": [
    "Element --> A number inside a matrix\n",
    "8   7   2   0\n",
    "9   73  23  1\n",
    "-48 2   1   29"
   ]
  },
  {
   "cell_type": "raw",
   "id": "603faab7",
   "metadata": {},
   "source": [
    "Vector --> Matrix with only One Row or only one column (order 1X..... or ......X1)\n",
    "-48 2   1   29\n",
    "or\n",
    "8\n",
    "9\n",
    "-48"
   ]
  },
  {
   "cell_type": "raw",
   "id": "8e811705",
   "metadata": {},
   "source": [
    "Scalr --> Matrix with the order 1 X 1\n",
    "8"
   ]
  },
  {
   "cell_type": "code",
   "execution_count": 1,
   "id": "aefcf56d",
   "metadata": {},
   "outputs": [
    {
     "ename": "NameError",
     "evalue": "name 'x' is not defined",
     "output_type": "error",
     "traceback": [
      "\u001b[1;31m---------------------------------------------------------------------------\u001b[0m",
      "\u001b[1;31mNameError\u001b[0m                                 Traceback (most recent call last)",
      "Input \u001b[1;32mIn [1]\u001b[0m, in \u001b[0;36m<cell line: 1>\u001b[1;34m()\u001b[0m\n\u001b[1;32m----> 1\u001b[0m y\u001b[38;5;241m=\u001b[39m\u001b[43mx\u001b[49m\u001b[38;5;241m*\u001b[39m\u001b[38;5;241m*\u001b[39m\u001b[38;5;241m2\u001b[39m\n",
      "\u001b[1;31mNameError\u001b[0m: name 'x' is not defined"
     ]
    }
   ],
   "source": [
    "y=x**2"
   ]
  },
  {
   "cell_type": "code",
   "execution_count": 5,
   "id": "dca113da",
   "metadata": {},
   "outputs": [
    {
     "name": "stdout",
     "output_type": "stream",
     "text": [
      "x**2\n"
     ]
    }
   ],
   "source": [
    "from sympy.abc import x, y, z\n",
    "y=x**2\n",
    "print(y)\n"
   ]
  },
  {
   "cell_type": "code",
   "execution_count": 6,
   "id": "a2e62b0b",
   "metadata": {},
   "outputs": [],
   "source": [
    "from sympy.matrices import Matrix\n",
    "from sympy.abc import x, y, z"
   ]
  },
  {
   "cell_type": "code",
   "execution_count": 7,
   "id": "255ff357",
   "metadata": {},
   "outputs": [
    {
     "data": {
      "text/latex": [
       "$\\displaystyle \\left[\\begin{matrix}1 & 2\\\\3 & 4\\\\5 & 6\\end{matrix}\\right]$"
      ],
      "text/plain": [
       "Matrix([\n",
       "[1, 2],\n",
       "[3, 4],\n",
       "[5, 6]])"
      ]
     },
     "execution_count": 7,
     "metadata": {},
     "output_type": "execute_result"
    }
   ],
   "source": [
    "# Enrap the matrix with each row as list\n",
    "Matrix([[1, 2],[3 ,4],[5,6]])"
   ]
  },
  {
   "cell_type": "code",
   "execution_count": 8,
   "id": "0f7c4cc6",
   "metadata": {},
   "outputs": [
    {
     "data": {
      "text/latex": [
       "$\\displaystyle \\left[\\begin{matrix}1 & x\\\\x + y & z\\\\5 & 7\\end{matrix}\\right]$"
      ],
      "text/plain": [
       "Matrix([\n",
       "[    1, x],\n",
       "[x + y, z],\n",
       "[    5, 7]])"
      ]
     },
     "execution_count": 8,
     "metadata": {},
     "output_type": "execute_result"
    }
   ],
   "source": [
    "Matrix([[1,x],[y+x, z],[5,7]])"
   ]
  },
  {
   "cell_type": "code",
   "execution_count": 10,
   "id": "035eb5a4",
   "metadata": {},
   "outputs": [
    {
     "data": {
      "text/latex": [
       "$\\displaystyle \\left[\\begin{matrix}1 & 42\\\\y + 42 & z\\\\5 & 7\\end{matrix}\\right]$"
      ],
      "text/plain": [
       "Matrix([\n",
       "[     1, 42],\n",
       "[y + 42,  z],\n",
       "[     5,  7]])"
      ]
     },
     "execution_count": 10,
     "metadata": {},
     "output_type": "execute_result"
    }
   ],
   "source": [
    "#we can be substitute the values of variables\n",
    "Matrix([[1,x],[y+x, z],[5,7]]).subs(x,42)"
   ]
  },
  {
   "cell_type": "code",
   "execution_count": 11,
   "id": "fc7d505e",
   "metadata": {},
   "outputs": [
    {
     "data": {
      "text/latex": [
       "$\\displaystyle \\left[\\begin{matrix}1 & 2\\\\3 & 4\\\\5 & 6\\end{matrix}\\right]$"
      ],
      "text/plain": [
       "Matrix([\n",
       "[1, 2],\n",
       "[3, 4],\n",
       "[5, 6]])"
      ]
     },
     "execution_count": 11,
     "metadata": {},
     "output_type": "execute_result"
    }
   ],
   "source": [
    "# another way of make matrix\n",
    "# as such as order of matics followed by the element as list\n",
    "Matrix(3,2,[1,2,3,4,5,6])"
   ]
  },
  {
   "cell_type": "code",
   "execution_count": 12,
   "id": "3627a81c",
   "metadata": {},
   "outputs": [
    {
     "data": {
      "text/latex": [
       "$\\displaystyle \\left[\\begin{matrix}1 & 2 & 3\\\\4 & 5 & 6\\end{matrix}\\right]$"
      ],
      "text/plain": [
       "Matrix([\n",
       "[1, 2, 3],\n",
       "[4, 5, 6]])"
      ]
     },
     "execution_count": 12,
     "metadata": {},
     "output_type": "execute_result"
    }
   ],
   "source": [
    "Matrix(2,3,[1,2,3,4,5,6])"
   ]
  },
  {
   "cell_type": "code",
   "execution_count": 13,
   "id": "bc5223ab",
   "metadata": {},
   "outputs": [
    {
     "data": {
      "text/latex": [
       "$\\displaystyle \\left[\\begin{matrix}1\\\\2\\\\3\\\\4\\end{matrix}\\right]$"
      ],
      "text/plain": [
       "Matrix([\n",
       "[1],\n",
       "[2],\n",
       "[3],\n",
       "[4]])"
      ]
     },
     "execution_count": 13,
     "metadata": {},
     "output_type": "execute_result"
    }
   ],
   "source": [
    "# one more way of declaring matrix\n",
    "Matrix([1,2,3,4])"
   ]
  },
  {
   "cell_type": "code",
   "execution_count": 15,
   "id": "5585baba",
   "metadata": {},
   "outputs": [
    {
     "data": {
      "text/latex": [
       "$\\displaystyle \\left[\\begin{matrix}1 & 2 & 3 & 4\\end{matrix}\\right]$"
      ],
      "text/plain": [
       "Matrix([[1, 2, 3, 4]])"
      ]
     },
     "execution_count": 15,
     "metadata": {},
     "output_type": "execute_result"
    }
   ],
   "source": [
    "Matrix(1,4,[1,2,3,4])"
   ]
  },
  {
   "cell_type": "code",
   "execution_count": 16,
   "id": "f2221eeb",
   "metadata": {},
   "outputs": [
    {
     "data": {
      "text/latex": [
       "$\\displaystyle \\left[\\begin{matrix}1\\\\2\\\\3\\\\4\\end{matrix}\\right]$"
      ],
      "text/plain": [
       "Matrix([\n",
       "[1],\n",
       "[2],\n",
       "[3],\n",
       "[4]])"
      ]
     },
     "execution_count": 16,
     "metadata": {},
     "output_type": "execute_result"
    }
   ],
   "source": [
    "Matrix([1,2,3,4])"
   ]
  },
  {
   "cell_type": "code",
   "execution_count": 17,
   "id": "44535ab2",
   "metadata": {},
   "outputs": [
    {
     "data": {
      "text/latex": [
       "$\\displaystyle \\left[\\begin{matrix}1 & 2 & 3 & 4\\end{matrix}\\right]$"
      ],
      "text/plain": [
       "Matrix([[1, 2, 3, 4]])"
      ]
     },
     "execution_count": 17,
     "metadata": {},
     "output_type": "execute_result"
    }
   ],
   "source": [
    "# Transpose of Matrix\n",
    "Matrix([1,2,3,4]).T"
   ]
  },
  {
   "cell_type": "code",
   "execution_count": 18,
   "id": "aea407b2",
   "metadata": {},
   "outputs": [
    {
     "data": {
      "text/latex": [
       "$\\displaystyle \\left[\\begin{matrix}1 & 2 & 3 & 4\\end{matrix}\\right]$"
      ],
      "text/plain": [
       "Matrix([[1, 2, 3, 4]])"
      ]
     },
     "execution_count": 18,
     "metadata": {},
     "output_type": "execute_result"
    }
   ],
   "source": [
    "Matrix([1,2,3,4]).transpose()\n",
    "# Flip rows in columns ans vise versa"
   ]
  },
  {
   "cell_type": "code",
   "execution_count": 19,
   "id": "168d9360",
   "metadata": {},
   "outputs": [],
   "source": [
    "#Store a matrix in a variable\n",
    "A = Matrix([[8, 7, 2, 0],[9, 73, 23, 1],[-48, 2, 1, 29]])"
   ]
  },
  {
   "cell_type": "code",
   "execution_count": 20,
   "id": "c2b4a27c",
   "metadata": {},
   "outputs": [
    {
     "data": {
      "text/latex": [
       "$\\displaystyle \\left[\\begin{matrix}8 & 7 & 2 & 0\\\\9 & 73 & 23 & 1\\\\-48 & 2 & 1 & 29\\end{matrix}\\right]$"
      ],
      "text/plain": [
       "Matrix([\n",
       "[  8,  7,  2,  0],\n",
       "[  9, 73, 23,  1],\n",
       "[-48,  2,  1, 29]])"
      ]
     },
     "execution_count": 20,
     "metadata": {},
     "output_type": "execute_result"
    }
   ],
   "source": [
    "A"
   ]
  },
  {
   "cell_type": "code",
   "execution_count": 21,
   "id": "29d487f7",
   "metadata": {},
   "outputs": [
    {
     "name": "stdout",
     "output_type": "stream",
     "text": [
      "Matrix([[8, 7, 2, 0], [9, 73, 23, 1], [-48, 2, 1, 29]])\n"
     ]
    },
    {
     "data": {
      "text/plain": [
       "4"
      ]
     },
     "execution_count": 21,
     "metadata": {},
     "output_type": "execute_result"
    }
   ],
   "source": [
    "print (A)\n",
    "2+2"
   ]
  },
  {
   "cell_type": "code",
   "execution_count": 22,
   "id": "c94054bf",
   "metadata": {},
   "outputs": [],
   "source": [
    "from sympy import pprint"
   ]
  },
  {
   "cell_type": "code",
   "execution_count": 23,
   "id": "2188de4c",
   "metadata": {},
   "outputs": [
    {
     "name": "stdout",
     "output_type": "stream",
     "text": [
      "⎡ 8   7   2   0 ⎤\n",
      "⎢               ⎥\n",
      "⎢ 9   73  23  1 ⎥\n",
      "⎢               ⎥\n",
      "⎣-48  2   1   29⎦\n"
     ]
    },
    {
     "data": {
      "text/plain": [
       "4"
      ]
     },
     "execution_count": 23,
     "metadata": {},
     "output_type": "execute_result"
    }
   ],
   "source": [
    "pprint(A)\n",
    "2 + 2"
   ]
  },
  {
   "cell_type": "code",
   "execution_count": 24,
   "id": "fd98b0e2",
   "metadata": {},
   "outputs": [
    {
     "data": {
      "text/latex": [
       "$\\displaystyle \\left[\\begin{matrix}8 & 7 & 2 & 0\\\\9 & 73 & 23 & 1\\\\-48 & 2 & 1 & 29\\end{matrix}\\right]$"
      ],
      "text/plain": [
       "Matrix([\n",
       "[  8,  7,  2,  0],\n",
       "[  9, 73, 23,  1],\n",
       "[-48,  2,  1, 29]])"
      ]
     },
     "execution_count": 24,
     "metadata": {},
     "output_type": "execute_result"
    }
   ],
   "source": [
    "# We have a matrix stored in variable in A\n",
    "A"
   ]
  },
  {
   "cell_type": "code",
   "execution_count": 26,
   "id": "c73d7894",
   "metadata": {},
   "outputs": [],
   "source": [
    "B = Matrix(3,4,[1,5,6,7,8,9,6,5,4,6,3,6])"
   ]
  },
  {
   "cell_type": "code",
   "execution_count": 27,
   "id": "03210c88",
   "metadata": {},
   "outputs": [
    {
     "data": {
      "text/latex": [
       "$\\displaystyle \\left[\\begin{matrix}1 & 5 & 6 & 7\\\\8 & 9 & 6 & 5\\\\4 & 6 & 3 & 6\\end{matrix}\\right]$"
      ],
      "text/plain": [
       "Matrix([\n",
       "[1, 5, 6, 7],\n",
       "[8, 9, 6, 5],\n",
       "[4, 6, 3, 6]])"
      ]
     },
     "execution_count": 27,
     "metadata": {},
     "output_type": "execute_result"
    }
   ],
   "source": [
    "B"
   ]
  },
  {
   "cell_type": "code",
   "execution_count": 28,
   "id": "de5fd3ab",
   "metadata": {},
   "outputs": [
    {
     "data": {
      "text/latex": [
       "$\\displaystyle \\left[\\begin{matrix}9 & 12 & 8 & 7\\\\17 & 82 & 29 & 6\\\\-44 & 8 & 4 & 35\\end{matrix}\\right]$"
      ],
      "text/plain": [
       "Matrix([\n",
       "[  9, 12,  8,  7],\n",
       "[ 17, 82, 29,  6],\n",
       "[-44,  8,  4, 35]])"
      ]
     },
     "execution_count": 28,
     "metadata": {},
     "output_type": "execute_result"
    }
   ],
   "source": [
    "#Operations on the Matrix\n",
    "# Addition of the two Matrix A + B each element is being adding with corresponding element\n",
    "A + B"
   ]
  },
  {
   "cell_type": "code",
   "execution_count": 29,
   "id": "6beb1c4e",
   "metadata": {},
   "outputs": [
    {
     "data": {
      "text/latex": [
       "$\\displaystyle \\left[\\begin{matrix}3 & 15 & 18 & 21\\\\24 & 27 & 18 & 15\\\\12 & 18 & 9 & 18\\end{matrix}\\right]$"
      ],
      "text/plain": [
       "Matrix([\n",
       "[ 3, 15, 18, 21],\n",
       "[24, 27, 18, 15],\n",
       "[12, 18,  9, 18]])"
      ]
     },
     "execution_count": 29,
     "metadata": {},
     "output_type": "execute_result"
    }
   ],
   "source": [
    "#Multiplication have different methods and types of multiplication\n",
    "#Multiply scalar by Matrix\n",
    "3 * B"
   ]
  },
  {
   "cell_type": "code",
   "execution_count": 33,
   "id": "826927ac",
   "metadata": {},
   "outputs": [],
   "source": [
    "# Each element of the Matrix has been multiplied by 3\n"
   ]
  },
  {
   "cell_type": "code",
   "execution_count": 30,
   "id": "f51bf0bb",
   "metadata": {},
   "outputs": [
    {
     "data": {
      "text/latex": [
       "$\\displaystyle \\left[\\begin{matrix}x^{3} & 5 x^{3} & 6 x^{3} & 7 x^{3}\\\\8 x^{3} & 9 x^{3} & 6 x^{3} & 5 x^{3}\\\\4 x^{3} & 6 x^{3} & 3 x^{3} & 6 x^{3}\\end{matrix}\\right]$"
      ],
      "text/plain": [
       "Matrix([\n",
       "[  x**3, 5*x**3, 6*x**3, 7*x**3],\n",
       "[8*x**3, 9*x**3, 6*x**3, 5*x**3],\n",
       "[4*x**3, 6*x**3, 3*x**3, 6*x**3]])"
      ]
     },
     "execution_count": 30,
     "metadata": {},
     "output_type": "execute_result"
    }
   ],
   "source": [
    "x**3 *B"
   ]
  },
  {
   "cell_type": "code",
   "execution_count": 31,
   "id": "cbc8b2dc",
   "metadata": {},
   "outputs": [
    {
     "data": {
      "text/latex": [
       "$\\displaystyle \\left[\\begin{matrix}8 & 35 & 12 & 0\\\\72 & 657 & 138 & 5\\\\-192 & 12 & 3 & 174\\end{matrix}\\right]$"
      ],
      "text/plain": [
       "Matrix([\n",
       "[   8,  35,  12,   0],\n",
       "[  72, 657, 138,   5],\n",
       "[-192,  12,   3, 174]])"
      ]
     },
     "execution_count": 31,
     "metadata": {},
     "output_type": "execute_result"
    }
   ],
   "source": [
    "#second elementwise\n",
    "A.multiply_elementwise(B)"
   ]
  },
  {
   "cell_type": "code",
   "execution_count": 32,
   "id": "8b3b7942",
   "metadata": {},
   "outputs": [],
   "source": [
    "from sympy import matrix_multiply_elementwise"
   ]
  },
  {
   "cell_type": "code",
   "execution_count": 33,
   "id": "e5e68bec",
   "metadata": {},
   "outputs": [
    {
     "data": {
      "text/latex": [
       "$\\displaystyle \\left[\\begin{matrix}8 & 35 & 12 & 0\\\\72 & 657 & 138 & 5\\\\-192 & 12 & 3 & 174\\end{matrix}\\right]$"
      ],
      "text/plain": [
       "Matrix([\n",
       "[   8,  35,  12,   0],\n",
       "[  72, 657, 138,   5],\n",
       "[-192,  12,   3, 174]])"
      ]
     },
     "execution_count": 33,
     "metadata": {},
     "output_type": "execute_result"
    }
   ],
   "source": [
    "matrix_multiply_elementwise(A,B)"
   ]
  },
  {
   "cell_type": "code",
   "execution_count": 34,
   "id": "cccb4dc2",
   "metadata": {},
   "outputs": [],
   "source": [
    "# First Matrics time second matrics A multipy B\n",
    "C = Matrix(4,3,[4,6,8,483,39,-3,19,4,1,11,0,-42])"
   ]
  },
  {
   "cell_type": "code",
   "execution_count": 39,
   "id": "ed190973",
   "metadata": {},
   "outputs": [
    {
     "data": {
      "text/latex": [
       "$\\displaystyle \\left[\\begin{matrix}4 & 6 & 8\\\\483 & 39 & -3\\\\19 & 4 & 1\\\\11 & 0 & -42\\end{matrix}\\right]$"
      ],
      "text/plain": [
       "Matrix([\n",
       "[  4,  6,   8],\n",
       "[483, 39,  -3],\n",
       "[ 19,  4,   1],\n",
       "[ 11,  0, -42]])"
      ]
     },
     "execution_count": 39,
     "metadata": {},
     "output_type": "execute_result"
    }
   ],
   "source": [
    "C"
   ]
  },
  {
   "cell_type": "raw",
   "id": "70925ffa",
   "metadata": {},
   "source": [
    "Multipying Matrix by Matrix ===>\n",
    "-Frist - Each Element in First row of A times each element of first column of B, Added together\n",
    "-Second - Each element of first row of A times each element of second column of B,Added together\n",
    "-And so on....."
   ]
  },
  {
   "cell_type": "code",
   "execution_count": 35,
   "id": "8485b27e",
   "metadata": {},
   "outputs": [
    {
     "data": {
      "text/latex": [
       "$\\displaystyle \\left[\\begin{matrix}3451 & 329 & 45\\\\35743 & 2993 & -166\\\\1112 & -206 & -1607\\end{matrix}\\right]$"
      ],
      "text/plain": [
       "Matrix([\n",
       "[ 3451,  329,    45],\n",
       "[35743, 2993,  -166],\n",
       "[ 1112, -206, -1607]])"
      ]
     },
     "execution_count": 35,
     "metadata": {},
     "output_type": "execute_result"
    }
   ],
   "source": [
    "A * C"
   ]
  },
  {
   "cell_type": "code",
   "execution_count": 36,
   "id": "78eb0f74",
   "metadata": {},
   "outputs": [
    {
     "data": {
      "text/latex": [
       "$\\displaystyle \\left[\\begin{matrix}-298 & 482 & 154 & 238\\\\4359 & 6222 & 1860 & -48\\\\140 & 427 & 131 & 33\\\\2104 & -7 & -20 & -1218\\end{matrix}\\right]$"
      ],
      "text/plain": [
       "Matrix([\n",
       "[-298,  482,  154,   238],\n",
       "[4359, 6222, 1860,   -48],\n",
       "[ 140,  427,  131,    33],\n",
       "[2104,   -7,  -20, -1218]])"
      ]
     },
     "execution_count": 36,
     "metadata": {},
     "output_type": "execute_result"
    }
   ],
   "source": [
    "C * A"
   ]
  },
  {
   "cell_type": "code",
   "execution_count": 47,
   "id": "089fbb08",
   "metadata": {},
   "outputs": [],
   "source": [
    "# Plese note here A * C and C* A are not equal\n"
   ]
  },
  {
   "cell_type": "code",
   "execution_count": 37,
   "id": "e339761e",
   "metadata": {},
   "outputs": [],
   "source": [
    "D = Matrix (4,3,[4,6,8,483,39,-x,19,4,1,x+y,0,-42])"
   ]
  },
  {
   "cell_type": "code",
   "execution_count": 38,
   "id": "5aadce61",
   "metadata": {},
   "outputs": [
    {
     "data": {
      "text/latex": [
       "$\\displaystyle \\left[\\begin{matrix}3451 & 329 & 66 - 7 x\\\\x + y + 35732 & 2993 & 53 - 73 x\\\\29 x + 29 y + 793 & -206 & - 2 x - 1601\\end{matrix}\\right]$"
      ],
      "text/plain": [
       "Matrix([\n",
       "[             3451,  329,    66 - 7*x],\n",
       "[    x + y + 35732, 2993,   53 - 73*x],\n",
       "[29*x + 29*y + 793, -206, -2*x - 1601]])"
      ]
     },
     "execution_count": 38,
     "metadata": {},
     "output_type": "execute_result"
    }
   ],
   "source": [
    "A * D"
   ]
  },
  {
   "cell_type": "code",
   "execution_count": 42,
   "id": "352377f9",
   "metadata": {},
   "outputs": [],
   "source": [
    "# Special Matrices\n",
    "from sympy.matrices import ones, zeros, eye, randMatrix"
   ]
  },
  {
   "cell_type": "code",
   "execution_count": 39,
   "id": "677f9c6d",
   "metadata": {},
   "outputs": [],
   "source": [
    "A = Matrix([[8, 7, 2, 0],[9, 73, 23, 1],[-48, 2, 1, 29]])"
   ]
  },
  {
   "cell_type": "code",
   "execution_count": 40,
   "id": "de20df33",
   "metadata": {},
   "outputs": [],
   "source": [
    "B = Matrix(3,4,[1,5,6,7,8,9,6,5,4,6,3,6])"
   ]
  },
  {
   "cell_type": "code",
   "execution_count": null,
   "id": "28cd9f36",
   "metadata": {},
   "outputs": [],
   "source": []
  },
  {
   "cell_type": "code",
   "execution_count": 43,
   "id": "2cc7f70d",
   "metadata": {},
   "outputs": [
    {
     "data": {
      "text/latex": [
       "$\\displaystyle \\left[\\begin{matrix}1 & 1 & 1\\\\1 & 1 & 1\\end{matrix}\\right]$"
      ],
      "text/plain": [
       "Matrix([\n",
       "[1, 1, 1],\n",
       "[1, 1, 1]])"
      ]
     },
     "execution_count": 43,
     "metadata": {},
     "output_type": "execute_result"
    }
   ],
   "source": [
    "ones(2,3)"
   ]
  },
  {
   "cell_type": "code",
   "execution_count": 54,
   "id": "f6280e2d",
   "metadata": {},
   "outputs": [
    {
     "data": {
      "text/latex": [
       "$\\displaystyle \\left[\\begin{matrix}0 & 0 & 0\\\\0 & 0 & 0\\end{matrix}\\right]$"
      ],
      "text/plain": [
       "Matrix([\n",
       "[0, 0, 0],\n",
       "[0, 0, 0]])"
      ]
     },
     "execution_count": 54,
     "metadata": {},
     "output_type": "execute_result"
    }
   ],
   "source": [
    "zeros(2,3)"
   ]
  },
  {
   "cell_type": "code",
   "execution_count": 55,
   "id": "138dfc7f",
   "metadata": {},
   "outputs": [
    {
     "data": {
      "text/latex": [
       "$\\displaystyle \\left[\\begin{matrix}1 & 0 & 0 & 0 & 0\\\\0 & 1 & 0 & 0 & 0\\\\0 & 0 & 1 & 0 & 0\\\\0 & 0 & 0 & 1 & 0\\\\0 & 0 & 0 & 0 & 1\\end{matrix}\\right]$"
      ],
      "text/plain": [
       "Matrix([\n",
       "[1, 0, 0, 0, 0],\n",
       "[0, 1, 0, 0, 0],\n",
       "[0, 0, 1, 0, 0],\n",
       "[0, 0, 0, 1, 0],\n",
       "[0, 0, 0, 0, 1]])"
      ]
     },
     "execution_count": 55,
     "metadata": {},
     "output_type": "execute_result"
    }
   ],
   "source": [
    "eye(5)"
   ]
  },
  {
   "cell_type": "code",
   "execution_count": 58,
   "id": "d029c617",
   "metadata": {},
   "outputs": [
    {
     "data": {
      "text/latex": [
       "$\\displaystyle \\left[\\begin{matrix}1 & 0 & 0 & 0 & 0 & 0 & 0 & 0 & 0\\\\0 & 1 & 0 & 0 & 0 & 0 & 0 & 0 & 0\\\\0 & 0 & 1 & 0 & 0 & 0 & 0 & 0 & 0\\\\0 & 0 & 0 & 1 & 0 & 0 & 0 & 0 & 0\\\\0 & 0 & 0 & 0 & 1 & 0 & 0 & 0 & 0\\end{matrix}\\right]$"
      ],
      "text/plain": [
       "Matrix([\n",
       "[1, 0, 0, 0, 0, 0, 0, 0, 0],\n",
       "[0, 1, 0, 0, 0, 0, 0, 0, 0],\n",
       "[0, 0, 1, 0, 0, 0, 0, 0, 0],\n",
       "[0, 0, 0, 1, 0, 0, 0, 0, 0],\n",
       "[0, 0, 0, 0, 1, 0, 0, 0, 0]])"
      ]
     },
     "execution_count": 58,
     "metadata": {},
     "output_type": "execute_result"
    }
   ],
   "source": [
    "eye(5,9)"
   ]
  },
  {
   "cell_type": "code",
   "execution_count": 47,
   "id": "5d64aacf",
   "metadata": {},
   "outputs": [
    {
     "data": {
      "text/latex": [
       "$\\displaystyle \\left[\\begin{matrix}16 & 15 & 99\\\\7 & 88 & 65\\end{matrix}\\right]$"
      ],
      "text/plain": [
       "Matrix([\n",
       "[16, 15, 99],\n",
       "[ 7, 88, 65]])"
      ]
     },
     "execution_count": 47,
     "metadata": {},
     "output_type": "execute_result"
    }
   ],
   "source": [
    "randMatrix(2,3)"
   ]
  },
  {
   "cell_type": "code",
   "execution_count": 51,
   "id": "c3977f14",
   "metadata": {},
   "outputs": [
    {
     "data": {
      "text/latex": [
       "$\\displaystyle \\left[\\begin{matrix}10 & 12 & 11\\\\14 & 14 & 10\\\\12 & 13 & 13\\\\12 & 12 & 12\\\\11 & 11 & 13\\end{matrix}\\right]$"
      ],
      "text/plain": [
       "Matrix([\n",
       "[10, 12, 11],\n",
       "[14, 14, 10],\n",
       "[12, 13, 13],\n",
       "[12, 12, 12],\n",
       "[11, 11, 13]])"
      ]
     },
     "execution_count": 51,
     "metadata": {},
     "output_type": "execute_result"
    }
   ],
   "source": [
    "randMatrix(5,3,min =9,max=14)"
   ]
  },
  {
   "cell_type": "code",
   "execution_count": null,
   "id": "e3368ad9",
   "metadata": {},
   "outputs": [],
   "source": []
  },
  {
   "cell_type": "code",
   "execution_count": 63,
   "id": "ff9ac6b2",
   "metadata": {},
   "outputs": [
    {
     "data": {
      "text/latex": [
       "$\\displaystyle \\left[\\begin{matrix}8 & 7 & 2 & 0\\\\9 & 73 & 23 & 1\\\\-48 & 2 & 1 & 29\\end{matrix}\\right]$"
      ],
      "text/plain": [
       "Matrix([\n",
       "[  8,  7,  2,  0],\n",
       "[  9, 73, 23,  1],\n",
       "[-48,  2,  1, 29]])"
      ]
     },
     "execution_count": 63,
     "metadata": {},
     "output_type": "execute_result"
    }
   ],
   "source": [
    "A"
   ]
  },
  {
   "cell_type": "code",
   "execution_count": 52,
   "id": "9c7ccd12",
   "metadata": {},
   "outputs": [
    {
     "data": {
      "text/latex": [
       "$\\displaystyle 23$"
      ],
      "text/plain": [
       "23"
      ]
     },
     "execution_count": 52,
     "metadata": {},
     "output_type": "execute_result"
    }
   ],
   "source": [
    "# Slicing of the Matrix\n",
    "A[1,2]"
   ]
  },
  {
   "cell_type": "code",
   "execution_count": 53,
   "id": "5d2524a5",
   "metadata": {},
   "outputs": [
    {
     "data": {
      "text/latex": [
       "$\\displaystyle \\left[\\begin{matrix}8 & 7 & 2\\\\9 & 73 & 23\\end{matrix}\\right]$"
      ],
      "text/plain": [
       "Matrix([\n",
       "[8,  7,  2],\n",
       "[9, 73, 23]])"
      ]
     },
     "execution_count": 53,
     "metadata": {},
     "output_type": "execute_result"
    }
   ],
   "source": [
    "A[0:2, 0:3]"
   ]
  },
  {
   "cell_type": "code",
   "execution_count": 54,
   "id": "70c3ddd7",
   "metadata": {},
   "outputs": [
    {
     "name": "stdout",
     "output_type": "stream",
     "text": [
      "Matrix([[12, 9, 9, 12, 12, 13, 14, 13], [9, 14, 13, 14, 14, 10, 13, 10], [10, 9, 11, 10, 14, 14, 13, 9], [10, 10, 14, 12, 11, 14, 12, 12], [14, 10, 10, 11, 14, 10, 13, 14], [12, 11, 12, 11, 9, 13, 10, 12], [12, 14, 9, 10, 14, 10, 10, 11]])\n"
     ]
    },
    {
     "data": {
      "text/latex": [
       "$\\displaystyle \\left[\\begin{matrix}9 & 11\\\\10 & 14\\\\10 & 10\\end{matrix}\\right]$"
      ],
      "text/plain": [
       "Matrix([\n",
       "[ 9, 11],\n",
       "[10, 14],\n",
       "[10, 10]])"
      ]
     },
     "execution_count": 54,
     "metadata": {},
     "output_type": "execute_result"
    }
   ],
   "source": [
    "D=randMatrix(7,8,min =9,max=14)\n",
    "print(D)\n",
    "D[2:5,1:3]"
   ]
  },
  {
   "cell_type": "code",
   "execution_count": 55,
   "id": "8c3f8f41",
   "metadata": {},
   "outputs": [
    {
     "data": {
      "text/latex": [
       "$\\displaystyle \\left[\\begin{matrix}12 & 9 & 9 & 12 & 12 & 13 & 14 & 13\\\\9 & 14 & 13 & 14 & 14 & 10 & 13 & 10\\\\10 & 9 & 11 & 10 & 14 & 14 & 13 & 9\\\\10 & 10 & 14 & 12 & 11 & 14 & 12 & 12\\\\14 & 10 & 10 & 11 & 14 & 10 & 13 & 14\\\\12 & 11 & 12 & 11 & 9 & 13 & 10 & 12\\\\12 & 14 & 9 & 10 & 14 & 10 & 10 & 11\\end{matrix}\\right]$"
      ],
      "text/plain": [
       "Matrix([\n",
       "[12,  9,  9, 12, 12, 13, 14, 13],\n",
       "[ 9, 14, 13, 14, 14, 10, 13, 10],\n",
       "[10,  9, 11, 10, 14, 14, 13,  9],\n",
       "[10, 10, 14, 12, 11, 14, 12, 12],\n",
       "[14, 10, 10, 11, 14, 10, 13, 14],\n",
       "[12, 11, 12, 11,  9, 13, 10, 12],\n",
       "[12, 14,  9, 10, 14, 10, 10, 11]])"
      ]
     },
     "execution_count": 55,
     "metadata": {},
     "output_type": "execute_result"
    }
   ],
   "source": [
    "D"
   ]
  },
  {
   "cell_type": "code",
   "execution_count": null,
   "id": "09266792",
   "metadata": {},
   "outputs": [],
   "source": []
  }
 ],
 "metadata": {
  "kernelspec": {
   "display_name": "Python 3 (ipykernel)",
   "language": "python",
   "name": "python3"
  },
  "language_info": {
   "codemirror_mode": {
    "name": "ipython",
    "version": 3
   },
   "file_extension": ".py",
   "mimetype": "text/x-python",
   "name": "python",
   "nbconvert_exporter": "python",
   "pygments_lexer": "ipython3",
   "version": "3.9.12"
  }
 },
 "nbformat": 4,
 "nbformat_minor": 5
}
